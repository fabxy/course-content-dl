{
  "nbformat": 4,
  "nbformat_minor": 0,
  "metadata": {
    "colab": {
      "name": "W1D2_Tutorial3",
      "provenance": [],
      "collapsed_sections": [],
      "toc_visible": true,
      "include_colab_link": true
    },
    "kernel": {
      "display_name": "Python 3",
      "language": "python",
      "name": "python3"
    },
    "kernelspec": {
      "display_name": "Python 3",
      "name": "python3"
    },
    "language_info": {
      "codemirror_mode": {
        "name": "ipython",
        "version": 3
      },
      "file_extension": ".py",
      "mimetype": "text/x-python",
      "name": "python",
      "nbconvert_exporter": "python",
      "pygments_lexer": "ipython3",
      "version": "3.7.11"
    },
    "widgets": {
      "application/vnd.jupyter.widget-state+json": {
        "6947e467aa434d81b1136e7c58d8cf27": {
          "model_module": "@jupyter-widgets/controls",
          "model_name": "TabModel",
          "state": {
            "_view_name": "TabView",
            "_dom_classes": [],
            "_titles": {
              "0": "Youtube",
              "1": "Bilibili"
            },
            "_model_name": "TabModel",
            "_view_module": "@jupyter-widgets/controls",
            "selected_index": 0,
            "_model_module_version": "1.5.0",
            "_view_count": null,
            "_view_module_version": "1.5.0",
            "box_style": "",
            "layout": "IPY_MODEL_b2bfd9625f854d0fb7e1c8f00ccef345",
            "_model_module": "@jupyter-widgets/controls",
            "children": [
              "IPY_MODEL_a1d795ea57764fbd98788d7a13a64f4f",
              "IPY_MODEL_fd0142227c264a1e870c61ab05a30dad"
            ]
          }
        },
        "b2bfd9625f854d0fb7e1c8f00ccef345": {
          "model_module": "@jupyter-widgets/base",
          "model_name": "LayoutModel",
          "state": {
            "_view_name": "LayoutView",
            "grid_template_rows": null,
            "right": null,
            "justify_content": null,
            "_view_module": "@jupyter-widgets/base",
            "overflow": null,
            "_model_module_version": "1.2.0",
            "_view_count": null,
            "flex_flow": null,
            "width": null,
            "min_width": null,
            "border": null,
            "align_items": null,
            "bottom": null,
            "_model_module": "@jupyter-widgets/base",
            "top": null,
            "grid_column": null,
            "overflow_y": null,
            "overflow_x": null,
            "grid_auto_flow": null,
            "grid_area": null,
            "grid_template_columns": null,
            "flex": null,
            "_model_name": "LayoutModel",
            "justify_items": null,
            "grid_row": null,
            "max_height": null,
            "align_content": null,
            "visibility": null,
            "align_self": null,
            "height": null,
            "min_height": null,
            "padding": null,
            "grid_auto_rows": null,
            "grid_gap": null,
            "max_width": null,
            "order": null,
            "_view_module_version": "1.2.0",
            "grid_template_areas": null,
            "object_position": null,
            "object_fit": null,
            "grid_auto_columns": null,
            "margin": null,
            "display": null,
            "left": null
          }
        },
        "a1d795ea57764fbd98788d7a13a64f4f": {
          "model_module": "@jupyter-widgets/output",
          "model_name": "OutputModel",
          "state": {
            "_view_name": "OutputView",
            "msg_id": "",
            "_dom_classes": [],
            "_model_name": "OutputModel",
            "outputs": [
              {
                "output_type": "stream",
                "metadata": {
                  "tags": []
                },
                "text": "Video available at https://youtube.com/watch?v=DqMSU4Bikt0\n",
                "stream": "stdout"
              },
              {
                "output_type": "display_data",
                "metadata": {
                  "tags": []
                },
                "text/html": "\n        <iframe\n            width=\"854\"\n            height=\"480\"\n            src=\"https://www.youtube.com/embed/DqMSU4Bikt0?fs=1&rel=0\"\n            frameborder=\"0\"\n            allowfullscreen\n        ></iframe>\n        ",
                "text/plain": "<IPython.lib.display.YouTubeVideo at 0x7efdad160d90>",
                "image/jpeg": "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\n"
              }
            ],
            "_view_module": "@jupyter-widgets/output",
            "_model_module_version": "1.0.0",
            "_view_count": null,
            "_view_module_version": "1.0.0",
            "layout": "IPY_MODEL_959d59d6e1994685b4a1a41b22790b7c",
            "_model_module": "@jupyter-widgets/output"
          }
        },
        "fd0142227c264a1e870c61ab05a30dad": {
          "model_module": "@jupyter-widgets/output",
          "model_name": "OutputModel",
          "state": {
            "_view_name": "OutputView",
            "msg_id": "",
            "_dom_classes": [],
            "_model_name": "OutputModel",
            "outputs": [
              {
                "output_type": "stream",
                "metadata": {
                  "tags": []
                },
                "text": "Video available at https://www.bilibili.com/video/BV1iM4y1T7eJ\n",
                "stream": "stdout"
              },
              {
                "output_type": "display_data",
                "metadata": {
                  "tags": []
                },
                "text/html": "\n        <iframe\n            width=\"854\"\n            height=\"480\"\n            src=\"https://player.bilibili.com/player.html?bvid=BV1iM4y1T7eJ&page=1?fs=1\"\n            frameborder=\"0\"\n            allowfullscreen\n        ></iframe>\n        ",
                "text/plain": "<__main__.BiliVideo at 0x7efdacc5a550>"
              }
            ],
            "_view_module": "@jupyter-widgets/output",
            "_model_module_version": "1.0.0",
            "_view_count": null,
            "_view_module_version": "1.0.0",
            "layout": "IPY_MODEL_5291693a298447cfaf0a064c9566b0a7",
            "_model_module": "@jupyter-widgets/output"
          }
        },
        "959d59d6e1994685b4a1a41b22790b7c": {
          "model_module": "@jupyter-widgets/base",
          "model_name": "LayoutModel",
          "state": {
            "_view_name": "LayoutView",
            "grid_template_rows": null,
            "right": null,
            "justify_content": null,
            "_view_module": "@jupyter-widgets/base",
            "overflow": null,
            "_model_module_version": "1.2.0",
            "_view_count": null,
            "flex_flow": null,
            "width": null,
            "min_width": null,
            "border": null,
            "align_items": null,
            "bottom": null,
            "_model_module": "@jupyter-widgets/base",
            "top": null,
            "grid_column": null,
            "overflow_y": null,
            "overflow_x": null,
            "grid_auto_flow": null,
            "grid_area": null,
            "grid_template_columns": null,
            "flex": null,
            "_model_name": "LayoutModel",
            "justify_items": null,
            "grid_row": null,
            "max_height": null,
            "align_content": null,
            "visibility": null,
            "align_self": null,
            "height": null,
            "min_height": null,
            "padding": null,
            "grid_auto_rows": null,
            "grid_gap": null,
            "max_width": null,
            "order": null,
            "_view_module_version": "1.2.0",
            "grid_template_areas": null,
            "object_position": null,
            "object_fit": null,
            "grid_auto_columns": null,
            "margin": null,
            "display": null,
            "left": null
          }
        },
        "5291693a298447cfaf0a064c9566b0a7": {
          "model_module": "@jupyter-widgets/base",
          "model_name": "LayoutModel",
          "state": {
            "_view_name": "LayoutView",
            "grid_template_rows": null,
            "right": null,
            "justify_content": null,
            "_view_module": "@jupyter-widgets/base",
            "overflow": null,
            "_model_module_version": "1.2.0",
            "_view_count": null,
            "flex_flow": null,
            "width": null,
            "min_width": null,
            "border": null,
            "align_items": null,
            "bottom": null,
            "_model_module": "@jupyter-widgets/base",
            "top": null,
            "grid_column": null,
            "overflow_y": null,
            "overflow_x": null,
            "grid_auto_flow": null,
            "grid_area": null,
            "grid_template_columns": null,
            "flex": null,
            "_model_name": "LayoutModel",
            "justify_items": null,
            "grid_row": null,
            "max_height": null,
            "align_content": null,
            "visibility": null,
            "align_self": null,
            "height": null,
            "min_height": null,
            "padding": null,
            "grid_auto_rows": null,
            "grid_gap": null,
            "max_width": null,
            "order": null,
            "_view_module_version": "1.2.0",
            "grid_template_areas": null,
            "object_position": null,
            "object_fit": null,
            "grid_auto_columns": null,
            "margin": null,
            "display": null,
            "left": null
          }
        },
        "867cd12a4bb4463aaea43560310ece6f": {
          "model_module": "@jupyter-widgets/controls",
          "model_name": "VBoxModel",
          "state": {
            "_view_name": "VBoxView",
            "_dom_classes": [
              "widget-interact"
            ],
            "_model_name": "VBoxModel",
            "_view_module": "@jupyter-widgets/controls",
            "_model_module_version": "1.5.0",
            "_view_count": null,
            "_view_module_version": "1.5.0",
            "box_style": "",
            "layout": "IPY_MODEL_8401164a87ea4305b58c51d29da99eac",
            "_model_module": "@jupyter-widgets/controls",
            "children": [
              "IPY_MODEL_af6a90b179be4311af382ff605f334f6",
              "IPY_MODEL_ac08616c18a5474d9b4c1efdc4d4511f",
              "IPY_MODEL_b41bc742783946a6b4ebdfbedea1eeca"
            ]
          }
        },
        "8401164a87ea4305b58c51d29da99eac": {
          "model_module": "@jupyter-widgets/base",
          "model_name": "LayoutModel",
          "state": {
            "_view_name": "LayoutView",
            "grid_template_rows": null,
            "right": null,
            "justify_content": null,
            "_view_module": "@jupyter-widgets/base",
            "overflow": null,
            "_model_module_version": "1.2.0",
            "_view_count": null,
            "flex_flow": null,
            "width": null,
            "min_width": null,
            "border": null,
            "align_items": null,
            "bottom": null,
            "_model_module": "@jupyter-widgets/base",
            "top": null,
            "grid_column": null,
            "overflow_y": null,
            "overflow_x": null,
            "grid_auto_flow": null,
            "grid_area": null,
            "grid_template_columns": null,
            "flex": null,
            "_model_name": "LayoutModel",
            "justify_items": null,
            "grid_row": null,
            "max_height": null,
            "align_content": null,
            "visibility": null,
            "align_self": null,
            "height": null,
            "min_height": null,
            "padding": null,
            "grid_auto_rows": null,
            "grid_gap": null,
            "max_width": null,
            "order": null,
            "_view_module_version": "1.2.0",
            "grid_template_areas": null,
            "object_position": null,
            "object_fit": null,
            "grid_auto_columns": null,
            "margin": null,
            "display": null,
            "left": null
          }
        },
        "af6a90b179be4311af382ff605f334f6": {
          "model_module": "@jupyter-widgets/controls",
          "model_name": "FloatSliderModel",
          "state": {
            "_view_name": "FloatSliderView",
            "style": "IPY_MODEL_2035df2bddd64f8c94bf3067026e73fc",
            "_dom_classes": [],
            "description": "eta",
            "step": 1,
            "_model_name": "FloatSliderModel",
            "orientation": "horizontal",
            "max": 200,
            "_view_module": "@jupyter-widgets/controls",
            "_model_module_version": "1.5.0",
            "value": 137,
            "_view_count": null,
            "disabled": false,
            "_view_module_version": "1.5.0",
            "min": 1,
            "continuous_update": false,
            "readout_format": ".1f",
            "description_tooltip": null,
            "readout": true,
            "_model_module": "@jupyter-widgets/controls",
            "layout": "IPY_MODEL_4c34d9216bf1459c93c418063f2ea728"
          }
        },
        "ac08616c18a5474d9b4c1efdc4d4511f": {
          "model_module": "@jupyter-widgets/controls",
          "model_name": "FloatLogSliderModel",
          "state": {
            "_view_name": "FloatLogSliderView",
            "orientation": "horizontal",
            "_view_module": "@jupyter-widgets/controls",
            "_model_module_version": "1.5.0",
            "_view_count": null,
            "disabled": false,
            "readout_format": ".3g",
            "_model_module": "@jupyter-widgets/controls",
            "style": "IPY_MODEL_80356b685c84495a88d79fa251dc5d10",
            "layout": "IPY_MODEL_d920e4fb96b34aa48ff7a129584063d3",
            "min": -15,
            "continuous_update": false,
            "description_tooltip": null,
            "_dom_classes": [],
            "description": "gamma",
            "_model_name": "FloatLogSliderModel",
            "max": 1,
            "readout": true,
            "step": 1,
            "base": 10,
            "value": 1e-8,
            "_view_module_version": "1.5.0"
          }
        },
        "b41bc742783946a6b4ebdfbedea1eeca": {
          "model_module": "@jupyter-widgets/output",
          "model_name": "OutputModel",
          "state": {
            "_view_name": "OutputView",
            "msg_id": "",
            "_dom_classes": [],
            "_model_name": "OutputModel",
            "outputs": [
              {
                "output_type": "display_data",
                "metadata": {
                  "tags": [],
                  "image/png": {
                    "width": 702,
                    "height": 341
                  },
                  "needs_background": "light"
                },
                "image/png": "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\n",
                "text/plain": "<Figure size 720x360 with 1 Axes>"
              }
            ],
            "_view_module": "@jupyter-widgets/output",
            "_model_module_version": "1.0.0",
            "_view_count": null,
            "_view_module_version": "1.0.0",
            "layout": "IPY_MODEL_ed8270178ba94eaeb4930a945c8a0657",
            "_model_module": "@jupyter-widgets/output"
          }
        },
        "2035df2bddd64f8c94bf3067026e73fc": {
          "model_module": "@jupyter-widgets/controls",
          "model_name": "SliderStyleModel",
          "state": {
            "_view_name": "StyleView",
            "handle_color": null,
            "_model_name": "SliderStyleModel",
            "description_width": "",
            "_view_module": "@jupyter-widgets/base",
            "_model_module_version": "1.5.0",
            "_view_count": null,
            "_view_module_version": "1.2.0",
            "_model_module": "@jupyter-widgets/controls"
          }
        },
        "4c34d9216bf1459c93c418063f2ea728": {
          "model_module": "@jupyter-widgets/base",
          "model_name": "LayoutModel",
          "state": {
            "_view_name": "LayoutView",
            "grid_template_rows": null,
            "right": null,
            "justify_content": null,
            "_view_module": "@jupyter-widgets/base",
            "overflow": null,
            "_model_module_version": "1.2.0",
            "_view_count": null,
            "flex_flow": null,
            "width": null,
            "min_width": null,
            "border": null,
            "align_items": null,
            "bottom": null,
            "_model_module": "@jupyter-widgets/base",
            "top": null,
            "grid_column": null,
            "overflow_y": null,
            "overflow_x": null,
            "grid_auto_flow": null,
            "grid_area": null,
            "grid_template_columns": null,
            "flex": null,
            "_model_name": "LayoutModel",
            "justify_items": null,
            "grid_row": null,
            "max_height": null,
            "align_content": null,
            "visibility": null,
            "align_self": null,
            "height": null,
            "min_height": null,
            "padding": null,
            "grid_auto_rows": null,
            "grid_gap": null,
            "max_width": null,
            "order": null,
            "_view_module_version": "1.2.0",
            "grid_template_areas": null,
            "object_position": null,
            "object_fit": null,
            "grid_auto_columns": null,
            "margin": null,
            "display": null,
            "left": null
          }
        },
        "80356b685c84495a88d79fa251dc5d10": {
          "model_module": "@jupyter-widgets/controls",
          "model_name": "SliderStyleModel",
          "state": {
            "_view_name": "StyleView",
            "handle_color": null,
            "_model_name": "SliderStyleModel",
            "description_width": "",
            "_view_module": "@jupyter-widgets/base",
            "_model_module_version": "1.5.0",
            "_view_count": null,
            "_view_module_version": "1.2.0",
            "_model_module": "@jupyter-widgets/controls"
          }
        },
        "d920e4fb96b34aa48ff7a129584063d3": {
          "model_module": "@jupyter-widgets/base",
          "model_name": "LayoutModel",
          "state": {
            "_view_name": "LayoutView",
            "grid_template_rows": null,
            "right": null,
            "justify_content": null,
            "_view_module": "@jupyter-widgets/base",
            "overflow": null,
            "_model_module_version": "1.2.0",
            "_view_count": null,
            "flex_flow": null,
            "width": null,
            "min_width": null,
            "border": null,
            "align_items": null,
            "bottom": null,
            "_model_module": "@jupyter-widgets/base",
            "top": null,
            "grid_column": null,
            "overflow_y": null,
            "overflow_x": null,
            "grid_auto_flow": null,
            "grid_area": null,
            "grid_template_columns": null,
            "flex": null,
            "_model_name": "LayoutModel",
            "justify_items": null,
            "grid_row": null,
            "max_height": null,
            "align_content": null,
            "visibility": null,
            "align_self": null,
            "height": null,
            "min_height": null,
            "padding": null,
            "grid_auto_rows": null,
            "grid_gap": null,
            "max_width": null,
            "order": null,
            "_view_module_version": "1.2.0",
            "grid_template_areas": null,
            "object_position": null,
            "object_fit": null,
            "grid_auto_columns": null,
            "margin": null,
            "display": null,
            "left": null
          }
        },
        "ed8270178ba94eaeb4930a945c8a0657": {
          "model_module": "@jupyter-widgets/base",
          "model_name": "LayoutModel",
          "state": {
            "_view_name": "LayoutView",
            "grid_template_rows": null,
            "right": null,
            "justify_content": null,
            "_view_module": "@jupyter-widgets/base",
            "overflow": null,
            "_model_module_version": "1.2.0",
            "_view_count": null,
            "flex_flow": null,
            "width": null,
            "min_width": null,
            "border": null,
            "align_items": null,
            "bottom": null,
            "_model_module": "@jupyter-widgets/base",
            "top": null,
            "grid_column": null,
            "overflow_y": null,
            "overflow_x": null,
            "grid_auto_flow": null,
            "grid_area": null,
            "grid_template_columns": null,
            "flex": null,
            "_model_name": "LayoutModel",
            "justify_items": null,
            "grid_row": null,
            "max_height": null,
            "align_content": null,
            "visibility": null,
            "align_self": null,
            "height": null,
            "min_height": null,
            "padding": null,
            "grid_auto_rows": null,
            "grid_gap": null,
            "max_width": null,
            "order": null,
            "_view_module_version": "1.2.0",
            "grid_template_areas": null,
            "object_position": null,
            "object_fit": null,
            "grid_auto_columns": null,
            "margin": null,
            "display": null,
            "left": null
          }
        }
      }
    }
  },
  "cells": [
    {
      "cell_type": "markdown",
      "metadata": {
        "id": "view-in-github",
        "colab_type": "text"
      },
      "source": [
        "<a href=\"https://colab.research.google.com/github/fabxy/course-content-dl/blob/main/tutorials/W1D2_LinearDeepLearning/student/W1D2_Tutorial3.ipynb\" target=\"_parent\"><img src=\"https://colab.research.google.com/assets/colab-badge.svg\" alt=\"Open In Colab\"/></a>"
      ]
    },
    {
      "cell_type": "markdown",
      "metadata": {
        "execution": {},
        "id": "9QW5vJ4dzN2A"
      },
      "source": [
        "# Tutorial 3: Deep linear neural networks\n",
        "**Week 1, Day 2: Linear Deep Learning**\n",
        "\n",
        "**By Neuromatch Academy**\n",
        "\n",
        "__Content creators:__ Saeed Salehi, Spiros Chavlis, Andrew Saxe\n",
        "\n",
        "__Content reviewers:__ Polina Turishcheva, Antoine De Comite\n",
        "\n",
        "__Content editors:__ Anoop Kulkarni\n",
        "\n",
        "__Production editors:__ Khalid Almubarak, Spiros Chavlis\n"
      ]
    },
    {
      "cell_type": "markdown",
      "metadata": {
        "execution": {},
        "id": "yyBTkZpEzN2E"
      },
      "source": [
        "**Our 2021 Sponsors, including Presenting Sponsor Facebook Reality Labs**\n",
        "\n",
        "<p align='center'><img src='https://github.com/NeuromatchAcademy/widgets/blob/master/sponsors.png?raw=True'/></p>"
      ]
    },
    {
      "cell_type": "markdown",
      "metadata": {
        "execution": {},
        "id": "zppXfz-izN2H"
      },
      "source": [
        "---\n",
        "# Tutorial Objectives\n",
        "\n",
        "* Deep linear neural networks\n",
        "* Learning dynamics and singular value decomposition\n",
        "* Representational Similarity Analysis\n",
        "* Illusory correlations & ethics"
      ]
    },
    {
      "cell_type": "code",
      "metadata": {
        "cellView": "form",
        "execution": {},
        "id": "dS-gBlpdzN2I",
        "outputId": "5bff79b3-dfe1-46e3-f517-b8215833715c",
        "colab": {
          "base_uri": "https://localhost:8080/",
          "height": 501
        }
      },
      "source": [
        "# @title Tutorial slides\n",
        "\n",
        "# @markdown These are the slides for the videos in this tutorial\n",
        "from IPython.display import IFrame\n",
        "IFrame(src=f\"https://mfr.ca-1.osf.io/render?url=https://osf.io/bncr8/?direct%26mode=render%26action=download%26mode=render\", width=854, height=480)"
      ],
      "execution_count": 1,
      "outputs": [
        {
          "output_type": "execute_result",
          "data": {
            "text/html": [
              "\n",
              "        <iframe\n",
              "            width=\"854\"\n",
              "            height=\"480\"\n",
              "            src=\"https://mfr.ca-1.osf.io/render?url=https://osf.io/bncr8/?direct%26mode=render%26action=download%26mode=render\"\n",
              "            frameborder=\"0\"\n",
              "            allowfullscreen\n",
              "        ></iframe>\n",
              "        "
            ],
            "text/plain": [
              "<IPython.lib.display.IFrame at 0x7efe0866ebd0>"
            ]
          },
          "metadata": {
            "tags": []
          },
          "execution_count": 1
        }
      ]
    },
    {
      "cell_type": "markdown",
      "metadata": {
        "execution": {},
        "id": "CdEI4ewEzN2J"
      },
      "source": [
        "---\n",
        "# Setup\n",
        "\n",
        "This a GPU-Free tutorial!"
      ]
    },
    {
      "cell_type": "code",
      "metadata": {
        "cellView": "form",
        "execution": {},
        "id": "FFNzF8hIzN2L",
        "outputId": "45e3e315-593a-4f16-f60c-29cb5a82f83f",
        "colab": {
          "base_uri": "https://localhost:8080/"
        }
      },
      "source": [
        "# @title Install dependencies\n",
        "!pip install git+https://github.com/NeuromatchAcademy/evaltools --quiet\n",
        "\n",
        "from evaltools.airtable import AirtableForm"
      ],
      "execution_count": 2,
      "outputs": [
        {
          "output_type": "stream",
          "text": [
            "  Building wheel for evaltools (setup.py) ... \u001b[?25l\u001b[?25hdone\n"
          ],
          "name": "stdout"
        }
      ]
    },
    {
      "cell_type": "code",
      "metadata": {
        "execution": {},
        "id": "Ec1BMN3SzN2M"
      },
      "source": [
        "# Imports\n",
        "import math\n",
        "import torch\n",
        "import matplotlib\n",
        "\n",
        "import numpy as np\n",
        "import matplotlib.pyplot as plt\n",
        "\n",
        "import torch.nn as nn\n",
        "import torch.optim as optim"
      ],
      "execution_count": 3,
      "outputs": []
    },
    {
      "cell_type": "code",
      "metadata": {
        "cellView": "form",
        "execution": {},
        "id": "HJorvWAXzN2N"
      },
      "source": [
        "# @title Figure settings\n",
        "\n",
        "from matplotlib import gridspec\n",
        "from ipywidgets import interact, IntSlider, FloatSlider, fixed\n",
        "from ipywidgets import FloatLogSlider, Layout, VBox\n",
        "from ipywidgets import interactive_output\n",
        "from mpl_toolkits.axes_grid1 import make_axes_locatable\n",
        "\n",
        "import warnings\n",
        "warnings.filterwarnings(\"ignore\")\n",
        "\n",
        "%config InlineBackend.figure_format = 'retina'\n",
        "plt.style.use(\"https://raw.githubusercontent.com/NeuromatchAcademy/content-creation/main/nma.mplstyle\")"
      ],
      "execution_count": 4,
      "outputs": []
    },
    {
      "cell_type": "code",
      "metadata": {
        "cellView": "form",
        "execution": {},
        "id": "NeWx5xNFzN2P"
      },
      "source": [
        "# @title Plotting functions\n",
        "\n",
        "def plot_x_y_hier_data(im1, im2, subplot_ratio=[1, 2]):\n",
        "  fig = plt.figure(figsize=(12, 5))\n",
        "  gs = gridspec.GridSpec(1, 2, width_ratios=subplot_ratio)\n",
        "  ax0 = plt.subplot(gs[0])\n",
        "  ax1 = plt.subplot(gs[1])\n",
        "  ax0.imshow(im1, cmap=\"cool\")\n",
        "  ax1.imshow(im2, cmap=\"cool\")\n",
        "  # plt.suptitle(\"The whole dataset as imshow plot\", y=1.02)\n",
        "  ax0.set_title(\"Labels of all samples\")\n",
        "  ax1.set_title(\"Features of all samples\")\n",
        "  ax0.set_axis_off()\n",
        "  ax1.set_axis_off()\n",
        "  plt.tight_layout()\n",
        "  plt.show()\n",
        "\n",
        "\n",
        "def plot_x_y_hier_one(im1, im2, subplot_ratio=[1, 2]):\n",
        "  fig = plt.figure(figsize=(12, 1))\n",
        "  gs = gridspec.GridSpec(1, 2, width_ratios=subplot_ratio)\n",
        "  ax0 = plt.subplot(gs[0])\n",
        "  ax1 = plt.subplot(gs[1])\n",
        "  ax0.imshow(im1, cmap=\"cool\")\n",
        "  ax1.imshow(im2, cmap=\"cool\")\n",
        "  ax0.set_title(\"Labels of a single sample\")\n",
        "  ax1.set_title(\"Features of a single sample\")\n",
        "  ax0.set_axis_off()\n",
        "  ax1.set_axis_off()\n",
        "  plt.tight_layout()\n",
        "  plt.show()\n",
        "\n",
        "\n",
        "def plot_tree_data(label_list = None, feature_array = None, new_feature = None):\n",
        "  cmap = matplotlib.colors.ListedColormap(['cyan', 'magenta'])\n",
        "  n_features = 10\n",
        "  n_labels = 8\n",
        "  im1 = np.eye(n_labels)\n",
        "  if feature_array is None:\n",
        "    im2 = np.array([[1, 1, 1, 1, 1, 1, 1, 1],\n",
        "                      [0, 0, 0, 0, 0, 0, 0, 0],\n",
        "                      [0, 0, 0, 0, 1, 1, 1, 1],\n",
        "                      [1, 1, 1, 1, 0, 0, 0, 0],\n",
        "                      [0, 0, 0, 0, 0, 0, 1, 1],\n",
        "                      [0, 0, 1, 1, 0, 0, 0, 0],\n",
        "                      [1, 1, 0, 0, 0, 0, 0, 0],\n",
        "                      [0, 0, 0, 0, 1, 1, 0, 0],\n",
        "                      [0, 1, 1, 1, 0, 0, 0, 0],\n",
        "                      [0, 0, 0, 0, 1, 1, 0, 1]]).T\n",
        "    im2[im2 == 0] = -1\n",
        "    feature_list = ['can_grow',\n",
        "                    'is_mammal',\n",
        "                    'has_leaves',\n",
        "                    'can_move',\n",
        "                    'has_trunk',\n",
        "                    'can_fly',\n",
        "                    'can_swim',\n",
        "                    'has_stem',\n",
        "                    'is_warmblooded',\n",
        "                    'can_flower']\n",
        "  else:\n",
        "    im2 = feature_array\n",
        "  if label_list is None:\n",
        "    label_list = ['Goldfish', 'Tuna', 'Robin', 'Canary',\n",
        "                  'Rose', 'Daisy', 'Pine', 'Oak']\n",
        "  fig = plt.figure(figsize=(12, 7))\n",
        "  gs = gridspec.GridSpec(1, 2, width_ratios=[1, 1.35])\n",
        "  ax1 = plt.subplot(gs[0])\n",
        "  ax2 = plt.subplot(gs[1])\n",
        "  ax1.imshow(im1, cmap=cmap)\n",
        "  if feature_array is None:\n",
        "    implt = ax2.imshow(im2, cmap=cmap, vmin=-1.0, vmax=1.0)\n",
        "  else:\n",
        "    implt = ax2.imshow(im2[:, -n_features:], cmap=cmap, vmin=-1.0, vmax=1.0)\n",
        "  divider = make_axes_locatable(ax2)\n",
        "  cax = divider.append_axes(\"right\", size=\"5%\", pad=0.1)\n",
        "  cbar = plt.colorbar(implt, cax=cax, ticks=[-0.5, 0.5])\n",
        "  cbar.ax.set_yticklabels(['no', 'yes'])\n",
        "  ax1.set_title(\"Labels\")\n",
        "  ax1.set_yticks(ticks=np.arange(n_labels))\n",
        "  ax1.set_yticklabels(labels=label_list)\n",
        "  ax1.set_xticks(ticks=np.arange(n_labels))\n",
        "  ax1.set_xticklabels(labels=label_list, rotation='vertical')\n",
        "  ax2.set_title(\"{} random Features\".format(n_features))\n",
        "  ax2.set_yticks(ticks=np.arange(n_labels))\n",
        "  ax2.set_yticklabels(labels=label_list)\n",
        "  if feature_array is None:\n",
        "    ax2.set_xticks(ticks=np.arange(n_features))\n",
        "    ax2.set_xticklabels(labels=feature_list, rotation='vertical')\n",
        "  else:\n",
        "    ax2.set_xticks(ticks=[n_features-1])\n",
        "    ax2.set_xticklabels(labels=[new_feature], rotation='vertical')\n",
        "  plt.tight_layout()\n",
        "  plt.show()\n",
        "\n",
        "\n",
        "def plot_loss(loss_array, title=\"Training loss (Mean Squared Error)\", c=\"r\"):\n",
        "  plt.figure(figsize=(10, 5))\n",
        "  plt.plot(loss_array, color=c)\n",
        "  plt.xlabel(\"Epoch\")\n",
        "  plt.ylabel(\"MSE\")\n",
        "  plt.title(title)\n",
        "  plt.show()\n",
        "\n",
        "\n",
        "def plot_loss_sv(loss_array, sv_array):\n",
        "  n_sing_values = sv_array.shape[1]\n",
        "  sv_array = sv_array / np.max(sv_array)\n",
        "  cmap = plt.cm.get_cmap(\"Set1\", n_sing_values)\n",
        "\n",
        "  _, (plot1, plot2) = plt.subplots(2, 1, sharex=True, figsize=(10, 10))\n",
        "  plot1.set_title(\"Training loss (Mean Squared Error)\")\n",
        "  plot1.plot(loss_array, color='r')\n",
        "\n",
        "  plot2.set_title(\"Evolution of singular values (modes)\")\n",
        "  for i in range(n_sing_values):\n",
        "    plot2.plot(sv_array[:, i], c=cmap(i))\n",
        "  plot2.set_xlabel(\"Epoch\")\n",
        "  plt.show()\n",
        "\n",
        "\n",
        "def plot_loss_sv_twin(loss_array, sv_array):\n",
        "  n_sing_values = sv_array.shape[1]\n",
        "  sv_array = sv_array / np.max(sv_array)\n",
        "  cmap = plt.cm.get_cmap(\"winter\", n_sing_values)\n",
        "\n",
        "  fig = plt.figure(figsize=(10, 5))\n",
        "  ax1 = plt.gca()\n",
        "  ax1.set_title(\"Learning Dynamics\")\n",
        "  ax1.set_xlabel(\"Epoch\")\n",
        "  ax1.set_ylabel(\"Mean Squared Error\", c='r')\n",
        "  ax1.tick_params(axis='y', labelcolor='r')\n",
        "  ax1.plot(loss_array, color='r')\n",
        "\n",
        "  ax2 = ax1.twinx()\n",
        "  ax2.set_ylabel(\"Singular values (modes)\", c='b')\n",
        "  ax2.tick_params(axis='y', labelcolor='b')\n",
        "  for i in range(n_sing_values):\n",
        "    ax2.plot(sv_array[:, i], c=cmap(i))\n",
        "\n",
        "  fig.tight_layout()\n",
        "  plt.show()\n",
        "\n",
        "\n",
        "def plot_ills_sv_twin(ill_array, sv_array, ill_label):\n",
        "  n_sing_values = sv_array.shape[1]\n",
        "  sv_array = sv_array / np.max(sv_array)\n",
        "  cmap = plt.cm.get_cmap(\"winter\", n_sing_values)\n",
        "\n",
        "  fig = plt.figure(figsize=(10, 5))\n",
        "  ax1 = plt.gca()\n",
        "  ax1.set_title(\"Network training and the Illusory Correlations\")\n",
        "  ax1.set_xlabel(\"Epoch\")\n",
        "  ax1.set_ylabel(ill_label, c='r')\n",
        "  ax1.tick_params(axis='y', labelcolor='r')\n",
        "  ax1.plot(ill_array, color='r', linewidth=3)\n",
        "  ax1.set_ylim(-1.05, 1.05)\n",
        "  # ax1.set_yticks([-1, 0, 1])\n",
        "  # ax1.set_yticklabels(['False', 'Not sure', 'True'])\n",
        "\n",
        "  ax2 = ax1.twinx()\n",
        "  ax2.set_ylabel(\"Singular values (modes)\", c='b')\n",
        "  ax2.tick_params(axis='y', labelcolor='b')\n",
        "  for i in range(n_sing_values):\n",
        "    ax2.plot(sv_array[:, i], c=cmap(i))\n",
        "\n",
        "  fig.tight_layout()\n",
        "  plt.show()\n",
        "\n",
        "\n",
        "def plot_loss_sv_rsm(loss_array, sv_array, rsm_array, i_ep):\n",
        "  n_ep = loss_array.shape[0]\n",
        "  rsm_array = rsm_array / np.max(rsm_array)\n",
        "  sv_array = sv_array / np.max(sv_array)\n",
        "\n",
        "  n_sing_values = sv_array.shape[1]\n",
        "  cmap = plt.cm.get_cmap(\"winter\", n_sing_values)\n",
        "\n",
        "  fig = plt.figure(figsize=(14, 5))\n",
        "  gs = gridspec.GridSpec(1, 2, width_ratios=[5, 3])\n",
        "\n",
        "  ax0 = plt.subplot(gs[1])\n",
        "  ax0.yaxis.tick_right()\n",
        "  implot = ax0.imshow(rsm_array[i_ep], cmap=\"Purples\", vmin=0.0, vmax=1.0)\n",
        "  divider = make_axes_locatable(ax0)\n",
        "  cax = divider.append_axes(\"right\", size=\"5%\", pad=0.9)\n",
        "  cbar = plt.colorbar(implot, cax=cax, ticks=[])\n",
        "  cbar.ax.set_ylabel('Similarity', fontsize=12)\n",
        "  ax0.set_title(\"RSM at epoch {}\".format(i_ep), fontsize=16)\n",
        "  # ax0.set_axis_off()\n",
        "  ax0.set_yticks(ticks=np.arange(n_sing_values))\n",
        "  ax0.set_yticklabels(labels=item_names)\n",
        "  # ax0.set_xticks([])\n",
        "  ax0.set_xticks(ticks=np.arange(n_sing_values))\n",
        "  ax0.set_xticklabels(labels=item_names, rotation='vertical')\n",
        "\n",
        "  ax1 = plt.subplot(gs[0])\n",
        "  ax1.set_title(\"Learning Dynamics\", fontsize=16)\n",
        "  ax1.set_xlabel(\"Epoch\")\n",
        "  ax1.set_ylabel(\"Mean Squared Error\", c='r')\n",
        "  ax1.tick_params(axis='y', labelcolor='r', direction=\"in\")\n",
        "  ax1.plot(np.arange(n_ep), loss_array, color='r')\n",
        "  ax1.axvspan(i_ep-2, i_ep+2, alpha=0.2, color='m')\n",
        "\n",
        "  ax2 = ax1.twinx()\n",
        "  ax2.set_ylabel(\"Singular values\", c='b')\n",
        "  ax2.tick_params(axis='y', labelcolor='b', direction=\"in\")\n",
        "  for i in range(n_sing_values):\n",
        "    ax2.plot(np.arange(n_ep), sv_array[:, i], c=cmap(i))\n",
        "  ax1.set_xlim(-1, n_ep+1)\n",
        "  ax2.set_xlim(-1, n_ep+1)\n",
        "\n",
        "  plt.show()"
      ],
      "execution_count": 5,
      "outputs": []
    },
    {
      "cell_type": "code",
      "metadata": {
        "cellView": "form",
        "execution": {},
        "id": "ZINdmSf4zN2S"
      },
      "source": [
        "#@title Helper functions\n",
        "\n",
        "atform = AirtableForm('appn7VdPRseSoMXEG',\\\n",
        "         'W1D2_T3','https://portal.neuromatchacademy.org/api/redirect/to/f60119ed-1c22-4dae-9e18-b6a767f477e1')\n",
        "\n",
        "def build_tree(n_levels, n_branches, probability, to_np_array=True):\n",
        "  \"\"\"Builds a tree\n",
        "  \"\"\"\n",
        "  assert 0.0 <= probability <= 1.0\n",
        "\n",
        "  tree = {}\n",
        "\n",
        "  tree[\"level\"] = [0]\n",
        "  for i in range(1, n_levels+1):\n",
        "    tree[\"level\"].extend([i]*(n_branches**i))\n",
        "\n",
        "  tree[\"pflip\"] = [probability]*len(tree[\"level\"])\n",
        "\n",
        "  tree[\"parent\"] = [None]\n",
        "  k = len(tree[\"level\"])-1\n",
        "  for j in range(k//n_branches):\n",
        "    tree[\"parent\"].extend([j]*n_branches)\n",
        "\n",
        "  if to_np_array:\n",
        "    tree[\"level\"] = np.array(tree[\"level\"])\n",
        "    tree[\"pflip\"] = np.array(tree[\"pflip\"])\n",
        "    tree[\"parent\"] = np.array(tree[\"parent\"])\n",
        "\n",
        "  return tree\n",
        "\n",
        "\n",
        "def sample_from_tree(tree, n):\n",
        "  \"\"\" Generates n samples from a tree\n",
        "  \"\"\"\n",
        "  items = [i for i, v in enumerate(tree[\"level\"]) if v == max(tree[\"level\"])]\n",
        "  n_items = len(items)\n",
        "  x = np.zeros(shape=(n, n_items))\n",
        "  rand_temp = np.random.rand(n, len(tree[\"pflip\"]))\n",
        "  flip_temp = np.repeat(tree[\"pflip\"].reshape(1, -1), n, 0)\n",
        "  samp = (rand_temp > flip_temp) * 2 - 1\n",
        "\n",
        "  for i in range(n_items):\n",
        "    j = items[i]\n",
        "    prop = samp[:, j]\n",
        "    while tree[\"parent\"][j] is not None:\n",
        "      j = tree[\"parent\"][j]\n",
        "      prop = prop * samp[:, j]\n",
        "    x[:, i] = prop.T\n",
        "  return x\n",
        "\n",
        "\n",
        "def generate_hsd():\n",
        "  # building the tree\n",
        "  n_branches = 2  # 2 branches at each node\n",
        "  probability = .15  # flipping probability\n",
        "  n_levels = 3  # number of levels (depth of tree)\n",
        "  tree = build_tree(n_levels, n_branches, probability, to_np_array=True)\n",
        "  tree[\"pflip\"][0] = 0.5\n",
        "  n_samples = 10000 # Sample this many features\n",
        "\n",
        "  tree_labels = np.eye(n_branches**n_levels)\n",
        "  tree_features = sample_from_tree(tree, n_samples).T\n",
        "  return tree_labels, tree_features\n",
        "\n",
        "\n",
        "def linear_regression(X, Y):\n",
        "  \"\"\"Analytical Linear regression\n",
        "\n",
        "  \"\"\"\n",
        "  assert isinstance(X, np.ndarray)\n",
        "  assert isinstance(Y, np.ndarray)\n",
        "  M, Dx = X.shape\n",
        "  N, Dy = Y.shape\n",
        "  assert Dx == Dy\n",
        "  W = Y @ X.T @ np.linalg.inv(X @ X.T)\n",
        "  return W\n",
        "\n",
        "\n",
        "def add_feature(existing_features, new_feature):\n",
        "  assert isinstance(existing_features, np.ndarray)\n",
        "  assert isinstance(new_feature, list)\n",
        "  new_feature = np.array([new_feature]).T\n",
        "  # return np.hstack((tree_features, new_feature*2-1))\n",
        "  return np.hstack((tree_features, new_feature))\n",
        "\n",
        "\n",
        "def net_svd(model, in_dim):\n",
        "  \"\"\"Performs a Singular Value Decomposition on a given model weights\n",
        "\n",
        "  Args:\n",
        "    model (torch.nn.Module): neural network model\n",
        "    in_dim (int): the input dimension of the model\n",
        "\n",
        "  Returns:\n",
        "    U, Σ, V (Tensors): Orthogonal, diagonal, and orthogonal matrices\n",
        "  \"\"\"\n",
        "  W_tot = torch.eye(in_dim)\n",
        "  for weight in model.parameters():\n",
        "    W_tot = weight.detach() @ W_tot\n",
        "  U, SIGMA, V = torch.svd(W_tot)\n",
        "  return U, SIGMA, V\n",
        "\n",
        "\n",
        "def net_rsm(h):\n",
        "  \"\"\"Calculates the Representational Similarity Matrix\n",
        "\n",
        "  Arg:\n",
        "    h (torch.Tensor): activity of a hidden layer\n",
        "\n",
        "  Returns:\n",
        "    (torch.Tensor): Representational Similarity Matrix\n",
        "  \"\"\"\n",
        "  rsm = h @ h.T\n",
        "  return rsm\n",
        "\n",
        "\n",
        "def initializer_(model, gamma=1e-12):\n",
        "  \"\"\"(in-place) Re-initialization of weights\n",
        "\n",
        "  Args:\n",
        "    model (torch.nn.Module): PyTorch neural net model\n",
        "    gamma (float): initialization scale\n",
        "  \"\"\"\n",
        "  for weight in model.parameters():\n",
        "    n_out, n_in = weight.shape\n",
        "    sigma = gamma / math.sqrt(n_in + n_out)\n",
        "    nn.init.normal_(weight, mean=0.0, std=sigma)\n",
        "\n",
        "\n",
        "def test_initializer_ex(seed):\n",
        "  torch.manual_seed(seed)\n",
        "  model = LNNet(5000, 5000, 1)\n",
        "  try:\n",
        "    ex_initializer_(model, gamma=1)\n",
        "    std = torch.std(next(iter(model.parameters())).detach()).item()\n",
        "    if -1e-5 <= (std - 0.01) <= 1e-5:\n",
        "      print(\"Well done! Seems to be correct!\")\n",
        "    else:\n",
        "      print(\"Please double check your implementation!\")\n",
        "  except:\n",
        "    print(\"Faulty Implementation!\")\n",
        "\n",
        "\n",
        "def test_net_svd_ex(seed):\n",
        "  torch.manual_seed(seed)\n",
        "  model = LNNet(8, 30, 100)\n",
        "  try:\n",
        "    U_ex, Σ_ex, V_ex = ex_net_svd(model, 8)\n",
        "    U, Σ, V = net_svd(model, 8)\n",
        "    if (torch.all(torch.isclose(U_ex.detach(), U.detach(), atol=1e-6)) and\n",
        "        torch.all(torch.isclose(Σ_ex.detach(), Σ.detach(), atol=1e-6)) and\n",
        "        torch.all(torch.isclose(V_ex.detach(), V.detach(), atol=1e-6))):\n",
        "      print(\"Well done! Seems to be correct!\")\n",
        "    else:\n",
        "      print(\"Please double check your implementation!\")\n",
        "  except:\n",
        "    print(\"Faulty Implementation!\")\n",
        "\n",
        "\n",
        "def test_net_rsm_ex(seed):\n",
        "  torch.manual_seed(seed)\n",
        "  x = torch.rand(7, 17)\n",
        "  try:\n",
        "    y_ex = ex_net_rsm(x)\n",
        "    y = x @ x.T\n",
        "    if (torch.all(torch.isclose(y_ex, y, atol=1e-6))):\n",
        "      print(\"Well done! Seems to be correct!\")\n",
        "    else:\n",
        "      print(\"Please double check your implementation!\")\n",
        "  except:\n",
        "    print(\"Faulty Implementation!\")"
      ],
      "execution_count": 6,
      "outputs": []
    },
    {
      "cell_type": "code",
      "metadata": {
        "cellView": "form",
        "execution": {},
        "id": "W6CGYt9_zN2U"
      },
      "source": [
        "#@title Set random seed\n",
        "\n",
        "#@markdown Executing `set_seed(seed=seed)` you are setting the seed\n",
        "\n",
        "# for DL its critical to set the random seed so that students can have a\n",
        "# baseline to compare their results to expected results.\n",
        "# Read more here: https://pytorch.org/docs/stable/notes/randomness.html\n",
        "\n",
        "# Call `set_seed` function in the exercises to ensure reproducibility.\n",
        "import random\n",
        "import torch\n",
        "\n",
        "def set_seed(seed=None, seed_torch=True):\n",
        "  if seed is None:\n",
        "    seed = np.random.choice(2 ** 32)\n",
        "  random.seed(seed)\n",
        "  np.random.seed(seed)\n",
        "  if seed_torch:\n",
        "    torch.manual_seed(seed)\n",
        "    torch.cuda.manual_seed_all(seed)\n",
        "    torch.cuda.manual_seed(seed)\n",
        "    torch.backends.cudnn.benchmark = False\n",
        "    torch.backends.cudnn.deterministic = True\n",
        "\n",
        "  print(f'Random seed {seed} has been set.')\n",
        "\n",
        "\n",
        "# In case that `DataLoader` is used\n",
        "def seed_worker(worker_id):\n",
        "  worker_seed = torch.initial_seed() % 2**32\n",
        "  np.random.seed(worker_seed)\n",
        "  random.seed(worker_seed)"
      ],
      "execution_count": 7,
      "outputs": []
    },
    {
      "cell_type": "code",
      "metadata": {
        "cellView": "form",
        "execution": {},
        "id": "ox_7ZUeVzN2V"
      },
      "source": [
        "#@title Set device (GPU or CPU). Execute `set_device()`\n",
        "# especially if torch modules used.\n",
        "\n",
        "# inform the user if the notebook uses GPU or CPU.\n",
        "\n",
        "def set_device():\n",
        "  device = \"cuda\" if torch.cuda.is_available() else \"cpu\"\n",
        "  if device != \"cuda\":\n",
        "    print(\"GPU is not enabled in this notebook. \\n\"\n",
        "          \"If you want to enable it, in the menu under `Runtime` -> \\n\"\n",
        "          \"`Hardware accelerator.` and select `GPU` from the dropdown menu\")\n",
        "  else:\n",
        "    print(\"GPU is enabled in this notebook. \\n\"\n",
        "          \"If you want to disable it, in the menu under `Runtime` -> \\n\"\n",
        "          \"`Hardware accelerator.` and select `None` from the dropdown menu\")\n",
        "\n",
        "  return device"
      ],
      "execution_count": 8,
      "outputs": []
    },
    {
      "cell_type": "code",
      "metadata": {
        "execution": {},
        "id": "mO5ha3V3zN2V",
        "outputId": "0d661105-993a-4f9d-f74d-0558325ff514",
        "colab": {
          "base_uri": "https://localhost:8080/"
        }
      },
      "source": [
        "SEED = 2021\n",
        "set_seed(seed=SEED)\n",
        "DEVICE = set_device()"
      ],
      "execution_count": 9,
      "outputs": [
        {
          "output_type": "stream",
          "text": [
            "Random seed 2021 has been set.\n",
            "GPU is not enabled in this notebook. \n",
            "If you want to enable it, in the menu under `Runtime` -> \n",
            "`Hardware accelerator.` and select `GPU` from the dropdown menu\n"
          ],
          "name": "stdout"
        }
      ]
    },
    {
      "cell_type": "markdown",
      "metadata": {
        "execution": {},
        "id": "Y79wTALUzN2W"
      },
      "source": [
        "This colab notebook is GPU free!"
      ]
    },
    {
      "cell_type": "markdown",
      "metadata": {
        "execution": {},
        "id": "4YNefVT9zN2X"
      },
      "source": [
        "---\n",
        "# Section 0: Prelude\n",
        "\n",
        "Throughout this tutorial, we will use a linear neural net with a single hidden layer. We have also excluded `bias` from the layers.\n",
        "\n",
        "**important to remember**: The forward loop returns the hidden activation, besides the network output (prediction). we will need it in section 3."
      ]
    },
    {
      "cell_type": "code",
      "metadata": {
        "execution": {},
        "id": "PxHvX4q5zN2X"
      },
      "source": [
        "class LNNet(nn.Module):\n",
        "  \"\"\"A Linear Neural Net with one hidden layer\n",
        "  \"\"\"\n",
        "\n",
        "  def __init__(self, in_dim, hid_dim, out_dim):\n",
        "    \"\"\"\n",
        "    Args:\n",
        "      in_dim (int): input dimension\n",
        "      out_dim (int): ouput dimension\n",
        "      hid_dim (int): hidden dimension\n",
        "    \"\"\"\n",
        "    super().__init__()\n",
        "    self.in_hid = nn.Linear(in_dim, hid_dim, bias=False)\n",
        "    self.hid_out = nn.Linear(hid_dim, out_dim, bias=False)\n",
        "\n",
        "  def forward(self, x):\n",
        "    \"\"\"\n",
        "    Args:\n",
        "      x (torch.Tensor): input tensor\n",
        "    \"\"\"\n",
        "    hid = self.in_hid(x)  # hidden activity\n",
        "    out = self.hid_out(hid)  # output (prediction)\n",
        "    return out, hid"
      ],
      "execution_count": 10,
      "outputs": []
    },
    {
      "cell_type": "markdown",
      "metadata": {
        "execution": {},
        "id": "tV2f21HtzN2X"
      },
      "source": [
        "Other than `net_svd` and `net_rsm` functions, the training loop should be mostly familiar to you. We will define these functions in the coming sections.\n",
        "\n",
        "**important**: Please note that the two functions are part of inner training loop and are therefore executed and recorded at every iteration."
      ]
    },
    {
      "cell_type": "code",
      "metadata": {
        "execution": {},
        "id": "-XugKWR5zN2Y"
      },
      "source": [
        "def train(model, inputs, targets, n_epochs, lr, illusory_i=0):\n",
        "  \"\"\"Training function\n",
        "\n",
        "  Args:\n",
        "    model (torch nn.Module): the neural network\n",
        "    inputs (torch.Tensor): features (input) with shape `[batch_size, input_dim]`\n",
        "    targets (torch.Tensor): targets (labels) with shape `[batch_size, output_dim]`\n",
        "    n_epochs (int): number of training epochs (iterations)\n",
        "    lr (float): learning rate\n",
        "    illusory_i (int): index of illusory feature\n",
        "\n",
        "  Returns:\n",
        "    np.ndarray: record (evolution) of training loss\n",
        "    np.ndarray: record (evolution) of singular values (dynamic modes)\n",
        "    np.ndarray: record (evolution) of representational similarity matrices\n",
        "    np.ndarray: record of network prediction for the last feature\n",
        "  \"\"\"\n",
        "  in_dim = inputs.size(1)\n",
        "\n",
        "  losses = np.zeros(n_epochs)  # loss records\n",
        "  modes = np.zeros((n_epochs, in_dim))  # singular values (modes) records\n",
        "  rs_mats = []  # representational similarity matrices\n",
        "  illusions = np.zeros(n_epochs)  # prediction for the given feature\n",
        "\n",
        "  optimizer = optim.SGD(model.parameters(), lr=lr)\n",
        "  criterion = nn.MSELoss()\n",
        "\n",
        "  for i in range(n_epochs):\n",
        "    optimizer.zero_grad()\n",
        "    predictions, hiddens = model(inputs)\n",
        "    loss = criterion(predictions, targets)\n",
        "    loss.backward()\n",
        "    optimizer.step()\n",
        "\n",
        "    # Section 2 Singular value decomposition\n",
        "    U, Σ, V = net_svd(model, in_dim)\n",
        "\n",
        "    # Section 3 calculating representational similarity matrix\n",
        "    RSM = net_rsm(hiddens.detach())\n",
        "\n",
        "    # Section 4 network prediction of illusory_i inputs for the last feature\n",
        "    pred_ij = predictions.detach()[illusory_i, -1]\n",
        "\n",
        "    # logging (recordings)\n",
        "    losses[i] = loss.item()\n",
        "    modes[i] = Σ.detach().numpy()\n",
        "    rs_mats.append(RSM.numpy())\n",
        "    illusions[i] = pred_ij.numpy()\n",
        "\n",
        "  return losses, modes, np.array(rs_mats), illusions"
      ],
      "execution_count": 11,
      "outputs": []
    },
    {
      "cell_type": "markdown",
      "metadata": {
        "execution": {},
        "id": "fUYFBGmgzN2Y"
      },
      "source": [
        "We also need take over the initialization of the weights. In PyTorch, [`nn.init`](https://pytorch.org/docs/stable/nn.init.html) provides us with the functions to initialize tensors from a given distribution.\n",
        "\n",
        "**important**: Since we need to make sure the plots are correct, so the tutorial message is delivered, we test your exercise implementations but we will not use them for the plots and training. "
      ]
    },
    {
      "cell_type": "markdown",
      "metadata": {
        "execution": {},
        "id": "A667tvJszN2Z"
      },
      "source": [
        "## Coding Exercise 0: Re-initialization (Optional)\n",
        "\n",
        "Complete the function `ex_initializer_`, such that the weights are sampled from the following distribution:\n",
        "\n",
        "\\begin{equation}\n",
        "\\mathcal{N}\\left(\\mu=0, ~~\\sigma=\\gamma \\sqrt{\\dfrac{1}{n_{in} + n_{out}}} \\right)\n",
        "\\end{equation}\n",
        "\n",
        "where $\\gamma$ is the initialization scale, $n_{in}$ and $n_{out}$ are respectively input and output dimensions of the layer. the Underscore (\"_\") in `ex_initializer_` and other functions, denotes \"[in-place](https://discuss.pytorch.org/t/what-is-in-place-operation/16244/2)\" operation.\n",
        "\n",
        "**important note**: since we did not include bias in the layers, the `model.parameters()` would only return the weights in each layer."
      ]
    },
    {
      "cell_type": "code",
      "metadata": {
        "execution": {},
        "id": "Nl3iWy6gzN2Z",
        "outputId": "35419c03-c66c-4abd-a6c8-af5913d9f28d",
        "colab": {
          "base_uri": "https://localhost:8080/"
        }
      },
      "source": [
        "#add event to airtable\n",
        "atform.add_event('Coding Exercise 0: Re-initialization')\n",
        "\n",
        "def ex_initializer_(model, gamma=1e-12):\n",
        "  \"\"\"(in-place) Re-initialization of weights\n",
        "\n",
        "  Args:\n",
        "    model (torch.nn.Module): PyTorch neural net model\n",
        "    gamma (float): initialization scale\n",
        "  \"\"\"\n",
        "  for weight in model.parameters():\n",
        "    n_out, n_in = weight.shape\n",
        "    #################################################\n",
        "    ## Define the standard deviation (sigma) for the normal distribution\n",
        "    # as given in the equation above\n",
        "    # Complete the function and remove or comment the line below\n",
        "    # raise NotImplementedError(\"Function `ex_initializer_`\")\n",
        "    #################################################\n",
        "    sigma = gamma * np.sqrt(1 / (n_in + n_out))\n",
        "    nn.init.normal_(weight, mean=0.0, std=sigma)\n",
        "\n",
        "\n",
        "\n",
        "## uncomment and run\n",
        "test_initializer_ex(SEED)"
      ],
      "execution_count": 12,
      "outputs": [
        {
          "output_type": "stream",
          "text": [
            "Well done! Seems to be correct!\n"
          ],
          "name": "stdout"
        }
      ]
    },
    {
      "cell_type": "markdown",
      "metadata": {
        "execution": {},
        "id": "Af18ItafzN2a"
      },
      "source": [
        "[*Click for solution*](https://github.com/NeuromatchAcademy/course-content-dl/tree/main//tutorials/W1D2_LinearDeepLearning/solutions/W1D2_Tutorial3_Solution_e471aef3.py)\n",
        "\n"
      ]
    },
    {
      "cell_type": "markdown",
      "metadata": {
        "execution": {},
        "id": "eaT4fdNdzN2a"
      },
      "source": [
        "\n",
        "---\n",
        "# Section 1: Deep Linear Neural Nets\n",
        "\n",
        "*Time estimate: ~20-30 mins*"
      ]
    },
    {
      "cell_type": "code",
      "metadata": {
        "cellView": "form",
        "execution": {},
        "id": "kF62CYeEzN2a",
        "outputId": "d3c90359-530e-48ce-cc88-b5290114a05d",
        "colab": {
          "base_uri": "https://localhost:8080/",
          "height": 581,
          "referenced_widgets": [
            "6947e467aa434d81b1136e7c58d8cf27",
            "b2bfd9625f854d0fb7e1c8f00ccef345",
            "a1d795ea57764fbd98788d7a13a64f4f",
            "fd0142227c264a1e870c61ab05a30dad",
            "959d59d6e1994685b4a1a41b22790b7c",
            "5291693a298447cfaf0a064c9566b0a7"
          ]
        }
      },
      "source": [
        "# @title Video 1: Intro to Representation Learning\n",
        "from ipywidgets import widgets\n",
        "\n",
        "out2 = widgets.Output()\n",
        "with out2:\n",
        "  from IPython.display import IFrame\n",
        "  class BiliVideo(IFrame):\n",
        "    def __init__(self, id, page=1, width=400, height=300, **kwargs):\n",
        "      self.id=id\n",
        "      src = \"https://player.bilibili.com/player.html?bvid={0}&page={1}\".format(id, page)\n",
        "      super(BiliVideo, self).__init__(src, width, height, **kwargs)\n",
        "\n",
        "  video = BiliVideo(id=f\"BV1iM4y1T7eJ\", width=854, height=480, fs=1)\n",
        "  print(\"Video available at https://www.bilibili.com/video/{0}\".format(video.id))\n",
        "  display(video)\n",
        "\n",
        "out1 = widgets.Output()\n",
        "with out1:\n",
        "  from IPython.display import YouTubeVideo\n",
        "  video = YouTubeVideo(id=f\"DqMSU4Bikt0\", width=854, height=480, fs=1, rel=0)\n",
        "  print(\"Video available at https://youtube.com/watch?v=\" + video.id)\n",
        "  display(video)\n",
        "\n",
        "out = widgets.Tab([out1, out2])\n",
        "out.set_title(0, 'Youtube')\n",
        "out.set_title(1, 'Bilibili')\n",
        "\n",
        "#add event to airtable\n",
        "atform.add_event('Video 1: Intro to Representation Learning')\n",
        "\n",
        "display(out)"
      ],
      "execution_count": 13,
      "outputs": [
        {
          "output_type": "display_data",
          "data": {
            "application/vnd.jupyter.widget-view+json": {
              "model_id": "6947e467aa434d81b1136e7c58d8cf27",
              "version_minor": 0,
              "version_major": 2
            },
            "text/plain": [
              "Tab(children=(Output(), Output()), _titles={'0': 'Youtube', '1': 'Bilibili'})"
            ]
          },
          "metadata": {
            "tags": []
          }
        }
      ]
    },
    {
      "cell_type": "markdown",
      "metadata": {
        "execution": {},
        "id": "nNRBDQljzN2b"
      },
      "source": [
        "So far, depth just seems to slow down the learning. And we know that a single nonlinear hidden layer (given enough number of neurons and infinite training samples) has the potential to approximate any function. So it seems fair to ask: **What is depth good for**?\n",
        "\n",
        "One reason can be that shallow nonlinear neural networks hardly meet their true potential in practice. In the contrast, deep neural nets are often surprisingly powerful in learning complex functions without sacrificing generalization. A core intuition behind deep learning is that deep nets derive their power through learning internal representations. How does this work? To address representation learning, we have to go beyond the 1D chain.\n",
        "\n",
        "For this and the next couple of exercises, we use syntactically generated hierarchically structured data through a *branching diffusion process* (see [this reference](https://www.pnas.org/content/pnas/suppl/2019/05/16/1820226116.DCSupplemental/pnas.1820226116.sapp.pdf) for more details).\n",
        "\n",
        "<center><img src=\"https://raw.githubusercontent.com/NeuromatchAcademy/course-content-dl/main/tutorials/W1D2_LinearDeepLearning/static/tree.png\" alt=\"Simple nn graph\" width=\"600\"/></center>\n",
        "\n",
        "<center> hierarchically structured data (a tree) </center>\n",
        "\n",
        "The inputs to the network are labels (i.e. names), while the outputs are the features (i.e. attributes). For example, for the label \"Goldfish\", the network has to learn all the (artificially created) features, such as \"*can swim*\", \"*is cold-blooded*\", \"*has fins*\", and more. Given that we are training on hierarchically structured data, network could also learn the tree structure, that Goldfish and Tuna have rather similar features, and Robin has more in common with Tuna, compared to Rose."
      ]
    },
    {
      "cell_type": "code",
      "metadata": {
        "execution": {},
        "id": "ALAUyzDQzN2r",
        "outputId": "fa070d0d-545e-4dc9-82b4-7a9530418587",
        "colab": {
          "base_uri": "https://localhost:8080/",
          "height": 519
        }
      },
      "source": [
        "# @markdown #### Run to generate and visualize training samples from tree\n",
        "\n",
        "tree_labels, tree_features = generate_hsd()\n",
        "\n",
        "# convert (cast) data from np.ndarray to torch.Tensor\n",
        "label_tensor = torch.tensor(tree_labels).float()\n",
        "feature_tensor = torch.tensor(tree_features).float()\n",
        "\n",
        "item_names = ['Goldfish', 'Tuna', 'Robin', 'Canary',\n",
        "              'Rose', 'Daisy', 'Pine', 'Oak']\n",
        "plot_tree_data()\n",
        "\n",
        "# dimensions\n",
        "print(\"---------------------------------------------------------------\")\n",
        "print(\"Input Dimension: {}\".format(tree_labels.shape[1]))\n",
        "print(\"Output Dimension: {}\".format(tree_features.shape[1]))\n",
        "print(\"Number of samples: {}\".format(tree_features.shape[0]))"
      ],
      "execution_count": 14,
      "outputs": [
        {
          "output_type": "display_data",
          "data": {
            "image/png": "[encoded data removed]",
            "text/plain": [
              "<Figure size 864x504 with 3 Axes>"
            ]
          },
          "metadata": {
            "tags": [],
            "image/png": {
              "width": 845,
              "height": 429
            },
            "needs_background": "light"
          }
        },
        {
          "output_type": "stream",
          "text": [
            "---------------------------------------------------------------\n",
            "Input Dimension: 8\n",
            "Output Dimension: 10000\n",
            "Number of samples: 8\n"
          ],
          "name": "stdout"
        }
      ]
    },
    {
      "cell_type": "markdown",
      "metadata": {
        "execution": {},
        "id": "Z3gd53p7zN2s"
      },
      "source": [
        "To continue this tutorial, it is vital to understand the premise of our training data and what the task is. Therefore, please take your time to discuss them with your pod.\n",
        "\n",
        "<center><img src=\"https://raw.githubusercontent.com/NeuromatchAcademy/course-content-dl/main/tutorials/W1D2_LinearDeepLearning/static/neural_net.png\" alt=\"neural net\" width=\"600\"/></center>\n",
        "\n",
        "<center> The neural network used for this tutorial </center>"
      ]
    },
    {
      "cell_type": "markdown",
      "metadata": {
        "execution": {},
        "id": "foH9PFu-zN2s"
      },
      "source": [
        "## Interactive Demo 1: Training the deep LNN\n",
        "\n",
        "Training a neural net on our data is straight forward. But before executing the next cell, remember the training loss curve from previous tutorial."
      ]
    },
    {
      "cell_type": "code",
      "metadata": {
        "execution": {},
        "cellView": "form",
        "id": "Fo0Z5yCozN2s",
        "outputId": "cb3f9a70-9ad6-4b07-d139-1adb70b9318a",
        "colab": {
          "base_uri": "https://localhost:8080/",
          "height": 358
        }
      },
      "source": [
        "# @markdown #### Make sure you execute this cell to train the network and plot\n",
        "\n",
        "lr = 100.0  # learning rate\n",
        "gamma = 1e-12  # initialization scale\n",
        "n_epochs = 250  # number of epochs\n",
        "dim_input = 8  # input dimension = `label_tensor.size(1)`\n",
        "dim_hidden = 30  # hidden neurons\n",
        "dim_output = 10000  # output dimension = `feature_tensor.size(1)`\n",
        "\n",
        "# model instantiation\n",
        "dlnn_model = LNNet(dim_input, dim_hidden, dim_output)\n",
        "\n",
        "# weights re-initialization\n",
        "initializer_(dlnn_model, gamma)\n",
        "\n",
        "# training\n",
        "losses, *_ = train(dlnn_model,\n",
        "                  label_tensor,\n",
        "                  feature_tensor,\n",
        "                  n_epochs=n_epochs,\n",
        "                  lr=lr)\n",
        "\n",
        "# plotting\n",
        "plot_loss(losses)"
      ],
      "execution_count": 18,
      "outputs": [
        {
          "output_type": "display_data",
          "data": {
            "image/png": "[encoded data removed]",
            "text/plain": [
              "<Figure size 720x360 with 1 Axes>"
            ]
          },
          "metadata": {
            "tags": [],
            "image/png": {
              "width": 702,
              "height": 341
            },
            "needs_background": "light"
          }
        }
      ]
    },
    {
      "cell_type": "markdown",
      "metadata": {
        "execution": {},
        "id": "QElU6cQCzN2t"
      },
      "source": [
        "**Think!**\n",
        "\n",
        "Why haven't we seen these \"bumps\" in training before? And should we look for them in the future? What do these bumps mean?\n",
        "\n",
        "Recall from previous tutorial, that we are always interested in learning rate ($\\eta$) and initialization ($\\gamma$) that would give us the fastest but yet stable (reliable) convergence. Try finding the optimal $\\eta$ and $\\gamma$ using the following widgets. More specifically, try large $\\gamma$ and see if we can recover the bumps by tuning the $\\eta$."
      ]
    },
    {
      "cell_type": "code",
      "metadata": {
        "execution": {},
        "cellView": "form",
        "id": "QkNOeKEdzN2t",
        "outputId": "1bdb015f-c56d-4ef0-c299-1e744fbbc0b1",
        "colab": {
          "base_uri": "https://localhost:8080/",
          "height": 422,
          "referenced_widgets": [
            "867cd12a4bb4463aaea43560310ece6f",
            "8401164a87ea4305b58c51d29da99eac",
            "af6a90b179be4311af382ff605f334f6",
            "ac08616c18a5474d9b4c1efdc4d4511f",
            "b41bc742783946a6b4ebdfbedea1eeca",
            "2035df2bddd64f8c94bf3067026e73fc",
            "4c34d9216bf1459c93c418063f2ea728",
            "80356b685c84495a88d79fa251dc5d10",
            "d920e4fb96b34aa48ff7a129584063d3",
            "ed8270178ba94eaeb4930a945c8a0657"
          ]
        }
      },
      "source": [
        "# @markdown #### Make sure you execute this cell to enable the widget!\n",
        "\n",
        "def loss_lr_init(lr, gamma):\n",
        "  \"\"\"Trains and plots the loss evolution given lr and initialization\n",
        "  Args:\n",
        "    lr (float): learning rate\n",
        "    gamma (float): initialization scale\n",
        "  \"\"\"\n",
        "  n_epochs = 250  # number of epochs\n",
        "  dim_input = 8  # input dimension = `label_tensor.size(1)`\n",
        "  dim_hidden = 30  # hidden neurons\n",
        "  dim_output = 10000  # output dimension = `feature_tensor.size(1)`\n",
        "\n",
        "  # model instantiation\n",
        "  dlnn_model = LNNet(dim_input, dim_hidden, dim_output)\n",
        "\n",
        "  # weights re-initialization\n",
        "  initializer_(dlnn_model, gamma)\n",
        "\n",
        "  losses, *_ = train(dlnn_model,\n",
        "                    label_tensor,\n",
        "                    feature_tensor,\n",
        "                    n_epochs=n_epochs,\n",
        "                    lr=lr)\n",
        "\n",
        "  plot_loss(losses)\n",
        "\n",
        "_ = interact(loss_lr_init,\n",
        "             lr = FloatSlider(min=1.0, max=200.0,\n",
        "                              step=1.0, value=100.0,\n",
        "                              continuous_update=False,\n",
        "                              readout_format='.1f',\n",
        "                              description='eta'),\n",
        "             epochs = fixed(250),\n",
        "             gamma = FloatLogSlider(min=-15, max=1,\n",
        "                                    step=1, value=1e-12, base=10,\n",
        "                                    continuous_update=False,\n",
        "                                    description='gamma')\n",
        "             )"
      ],
      "execution_count": 19,
      "outputs": [
        {
          "output_type": "display_data",
          "data": {
            "application/vnd.jupyter.widget-view+json": {
              "model_id": "867cd12a4bb4463aaea43560310ece6f",
              "version_minor": 0,
              "version_major": 2
            },
            "text/plain": [
              "interactive(children=(FloatSlider(value=100.0, continuous_update=False, description='eta', max=200.0, min=1.0,…"
            ]
          },
          "metadata": {
            "tags": []
          }
        }
      ]
    },
    {
      "cell_type": "markdown",
      "metadata": {
        "execution": {},
        "id": "6WDvZOIJzN2u"
      },
      "source": [
        "---\n",
        "# Section 2: Singular Value Decomposition (SVD)\n",
        "\n",
        "*Time estimate: ~30 mins*"
      ]
    },
    {
      "cell_type": "code",
      "metadata": {
        "cellView": "form",
        "execution": {},
        "id": "urKdv-MPzN2u"
      },
      "source": [
        "# @title Video 2: SVD\n",
        "from ipywidgets import widgets\n",
        "\n",
        "out2 = widgets.Output()\n",
        "with out2:\n",
        "  from IPython.display import IFrame\n",
        "  class BiliVideo(IFrame):\n",
        "    def __init__(self, id, page=1, width=400, height=300, **kwargs):\n",
        "      self.id=id\n",
        "      src = \"https://player.bilibili.com/player.html?bvid={0}&page={1}\".format(id, page)\n",
        "      super(BiliVideo, self).__init__(src, width, height, **kwargs)\n",
        "\n",
        "  video = BiliVideo(id=f\"BV1bw411R7DJ\", width=854, height=480, fs=1)\n",
        "  print(\"Video available at https://www.bilibili.com/video/{0}\".format(video.id))\n",
        "  display(video)\n",
        "\n",
        "out1 = widgets.Output()\n",
        "with out1:\n",
        "  from IPython.display import YouTubeVideo\n",
        "  video = YouTubeVideo(id=f\"18oNWRziskM\", width=854, height=480, fs=1, rel=0)\n",
        "  print(\"Video available at https://youtube.com/watch?v=\" + video.id)\n",
        "  display(video)\n",
        "\n",
        "out = widgets.Tab([out1, out2])\n",
        "out.set_title(0, 'Youtube')\n",
        "out.set_title(1, 'Bilibili')\n",
        "\n",
        "#add event to airtable\n",
        "atform.add_event('Video 2: SVD')\n",
        "\n",
        "display(out)"
      ],
      "execution_count": null,
      "outputs": []
    },
    {
      "cell_type": "markdown",
      "metadata": {
        "execution": {},
        "id": "Cnc8QZRDzN2v"
      },
      "source": [
        "In this section, we intend to study the learning (training) dynamics we just saw. First, we should know that a linear neural network is performing sequential matrix multiplications, which can be simplified to:\n",
        "\n",
        "\\begin{align}\n",
        "\\mathbf{y} &= \\mathbf{W}_{L}~\\mathbf{W}_{L-1}~\\dots~\\mathbf{W}_{1} ~ \\mathbf{x} \\\\\n",
        " &= (\\prod_{i=1}^{L}{\\mathbf{W}_{i}}) ~ \\mathbf{x} \\\\\n",
        " &= \\mathbf{W}_{tot} ~ \\mathbf{x}\n",
        "\\end{align}\n",
        "\n",
        "where $L$ denotes the number of layers in our network.\n",
        "\n",
        "Learning through gradient descent seems very alike to the evolution of a dynamic system. They both are described by a set of differential equations. Dynamical systems often have a \"time-constant\" which describes the rate of change, similar to the learning rate, only instead of time, gradient descent evolves through epochs.\n",
        "\n",
        "[Saxe et al. (2013)](https://arxiv.org/abs/1312.6120) showed that to analyze and to understanding the nonlinear learning dynamics of a deep LNN, we can use [Singular Value Decomposition (SVD)](https://en.wikipedia.org/wiki/Singular_value_decomposition) to decompose the $\\mathbf{W}_{tot}$ into orthogonal vectors, where orthogonality of the vectors would ensure their \"individuality (independence)\". This means we can break a deep wide LNN into multiple deep narrow LNN, so their activity is untangled from each other.\n",
        "\n",
        "<br/>\n",
        "\n",
        "__A Quick intro to SVD__\n",
        "\n",
        "Any real-valued matix $A$ (yes, ANY) can be decomposed (factorized) to 3 matrices:\n",
        "\n",
        "\\begin{equation}\n",
        "\\mathbf{A} = \\mathbf{U} \\mathbf{Σ} \\mathbf{V}^{\\top}\n",
        "\\end{equation}\n",
        "\n",
        "where $U$ is an orthogonal matrix, $\\Sigma$ is a diagonal matrix, and $V$ is again an orthogonal matrix. The diagonal elements of $\\Sigma$ are called **singular values**.\n",
        "\n",
        "The main difference between SVD and EigenValue Decomposition (EVD), is that EVD requires $A$ to be squared and does not guarantee the eigenvectors to be orthogonal. For the complex-valued matrix $A$, the factorization changes to $A = UΣV^*$ and $U$ and $V$ are unitary matrices.\n",
        "\n",
        "We strongly recommend the [Singular Value Decomposition (the SVD)](https://www.youtube.com/watch?v=mBcLRGuAFUk) by the amazing [Gilbert Strang](http://www-math.mit.edu/~gs/) if you would like to learn more.\n"
      ]
    },
    {
      "cell_type": "markdown",
      "metadata": {
        "execution": {},
        "id": "EWMr-YVizN2v"
      },
      "source": [
        "## Coding Exercise 2: SVD\n",
        "\n",
        "The goal is to perform the SVD on $\\mathbf{W}_{tot}$ in every epoch, and record the singular values (modes) during the training.\n",
        "\n",
        "Complete the function `ex_net_svd`, by first calculating the $\\mathbf{W}_{tot} = \\prod_{i=1}^{L}{\\mathbf{W}_{i}}$ and finally performing SVD on the $\\mathbf{W}_{tot}$. Please use the PyTorch [`torch.svd`](https://pytorch.org/docs/stable/generated/torch.svd.html) instead of NumPy [`np.linalg.svd`](https://numpy.org/doc/stable/reference/generated/numpy.linalg.svd.html)."
      ]
    },
    {
      "cell_type": "code",
      "metadata": {
        "execution": {},
        "id": "qz18f-mFzN2v"
      },
      "source": [
        "def ex_net_svd(model, in_dim):\n",
        "  \"\"\"Performs a Singular Value Decomposition on a given model weights\n",
        "\n",
        "  Args:\n",
        "    model (torch.nn.Module): neural network model\n",
        "    in_dim (int): the input dimension of the model\n",
        "\n",
        "  Returns:\n",
        "    U, Σ, V (Tensors): Orthogonal, diagonal, and orthogonal matrices\n",
        "  \"\"\"\n",
        "  W_tot = torch.eye(in_dim)\n",
        "  for weight in model.parameters():\n",
        "    #################################################\n",
        "    ## Calculate the W_tot by multiplication of all weights\n",
        "    # and then perform SVD on the W_tot using pytorch's `torch.svd`\n",
        "    # Remember that weights need to be `.detach()` from the graph\n",
        "    # Complete the function and remove or comment the line below\n",
        "    raise NotImplementedError(\"Function `ex_net_svd`\")\n",
        "    #################################################\n",
        "    W_tot = ...\n",
        "  U, Σ, V = ...\n",
        "  return U, Σ, V\n",
        "\n",
        "#add event to airtable\n",
        "atform.add_event('Coding Exercise 2: SVD')\n",
        "\n",
        "## Uncomment and run\n",
        "# test_net_svd_ex(SEED)"
      ],
      "execution_count": null,
      "outputs": []
    },
    {
      "cell_type": "markdown",
      "metadata": {
        "execution": {},
        "id": "6YPB5oiwzN2w"
      },
      "source": [
        "[*Click for solution*](https://github.com/NeuromatchAcademy/course-content-dl/tree/main//tutorials/W1D2_LinearDeepLearning/solutions/W1D2_Tutorial3_Solution_51b2e553.py)\n",
        "\n"
      ]
    },
    {
      "cell_type": "code",
      "metadata": {
        "cellView": "form",
        "execution": {},
        "id": "PhuJxLcczN2w"
      },
      "source": [
        "# @markdown #### Make sure you execute this cell to train the network and plot\n",
        "\n",
        "lr = 100.0  # learning rate\n",
        "gamma = 1e-12  # initialization scale\n",
        "n_epochs = 250  # number of epochs\n",
        "dim_input = 8  # input dimension = `label_tensor.size(1)`\n",
        "dim_hidden = 30  # hidden neurons\n",
        "dim_output = 10000  # output dimension = `feature_tensor.size(1)`\n",
        "\n",
        "# model instantiation\n",
        "dlnn_model = LNNet(dim_input, dim_hidden, dim_output)\n",
        "\n",
        "# weights re-initialization\n",
        "initializer_(dlnn_model, gamma)\n",
        "\n",
        "# training\n",
        "losses, modes, *_ = train(dlnn_model,\n",
        "                          label_tensor,\n",
        "                          feature_tensor,\n",
        "                          n_epochs=n_epochs,\n",
        "                          lr=lr)\n",
        "\n",
        "plot_loss_sv_twin(losses, modes)"
      ],
      "execution_count": null,
      "outputs": []
    },
    {
      "cell_type": "markdown",
      "metadata": {
        "execution": {},
        "id": "XacJpDtHzN2w"
      },
      "source": [
        "**Think!**\n",
        "\n",
        "In EigenValue decomposition, the amount of variance explained by eigenvectors is proportional to the corresponding eigenvalues. What about the SVD? We see that the gradient descent guides the network to first learn the features that carry more information (have higher singular value)!"
      ]
    },
    {
      "cell_type": "code",
      "metadata": {
        "cellView": "form",
        "execution": {},
        "id": "z2f_DlxizN2w"
      },
      "source": [
        "# @title Video 3: SVD - Discussion\n",
        "from ipywidgets import widgets\n",
        "\n",
        "out2 = widgets.Output()\n",
        "with out2:\n",
        "  from IPython.display import IFrame\n",
        "  class BiliVideo(IFrame):\n",
        "    def __init__(self, id, page=1, width=400, height=300, **kwargs):\n",
        "      self.id=id\n",
        "      src = \"https://player.bilibili.com/player.html?bvid={0}&page={1}\".format(id, page)\n",
        "      super(BiliVideo, self).__init__(src, width, height, **kwargs)\n",
        "\n",
        "  video = BiliVideo(id=f\"BV1t54y1J7Tb\", width=854, height=480, fs=1)\n",
        "  print(\"Video available at https://www.bilibili.com/video/{0}\".format(video.id))\n",
        "  display(video)\n",
        "\n",
        "out1 = widgets.Output()\n",
        "with out1:\n",
        "  from IPython.display import YouTubeVideo\n",
        "  video = YouTubeVideo(id=f\"JEbRPPG2kUI\", width=854, height=480, fs=1, rel=0)\n",
        "  print(\"Video available at https://youtube.com/watch?v=\" + video.id)\n",
        "  display(video)\n",
        "\n",
        "out = widgets.Tab([out1, out2])\n",
        "out.set_title(0, 'Youtube')\n",
        "out.set_title(1, 'Bilibili')\n",
        "\n",
        "#add event to airtable\n",
        "atform.add_event('Video 3: SVD - Discussion')\n",
        "\n",
        "display(out)"
      ],
      "execution_count": null,
      "outputs": []
    },
    {
      "cell_type": "markdown",
      "metadata": {
        "execution": {},
        "id": "6MV7qMzozN2x"
      },
      "source": [
        "---\n",
        "# Section 3: Representational Similarity Analysis (RSA)\n",
        "\n",
        "*Time estimate: ~30-45 mins*"
      ]
    },
    {
      "cell_type": "code",
      "metadata": {
        "cellView": "form",
        "execution": {},
        "id": "alXi2wZyzN2x"
      },
      "source": [
        "# @title Video 4: RSA\n",
        "from ipywidgets import widgets\n",
        "\n",
        "out2 = widgets.Output()\n",
        "with out2:\n",
        "  from IPython.display import IFrame\n",
        "  class BiliVideo(IFrame):\n",
        "    def __init__(self, id, page=1, width=400, height=300, **kwargs):\n",
        "      self.id=id\n",
        "      src = \"https://player.bilibili.com/player.html?bvid={0}&page={1}\".format(id, page)\n",
        "      super(BiliVideo, self).__init__(src, width, height, **kwargs)\n",
        "\n",
        "  video = BiliVideo(id=f\"BV19f4y157zD\", width=854, height=480, fs=1)\n",
        "  print(\"Video available at https://www.bilibili.com/video/{0}\".format(video.id))\n",
        "  display(video)\n",
        "\n",
        "out1 = widgets.Output()\n",
        "with out1:\n",
        "  from IPython.display import YouTubeVideo\n",
        "  video = YouTubeVideo(id=f\"YOs1yffysX8\", width=854, height=480, fs=1, rel=0)\n",
        "  print(\"Video available at https://youtube.com/watch?v=\" + video.id)\n",
        "  display(video)\n",
        "\n",
        "out = widgets.Tab([out1, out2])\n",
        "out.set_title(0, 'Youtube')\n",
        "out.set_title(1, 'Bilibili')\n",
        "\n",
        "#add event to airtable\n",
        "atform.add_event('Video 4: RSA')\n",
        "\n",
        "display(out)"
      ],
      "execution_count": null,
      "outputs": []
    },
    {
      "cell_type": "markdown",
      "metadata": {
        "execution": {},
        "id": "m1XfGjGJzN2x"
      },
      "source": [
        "The previous section ended with an interesting remark. SVD helped to break our deep \"wide\" linear neural net into 8 deep \"narrow\" linear neural nets. Although the naive interpretation could be that each narrow net is learning an item (e.g. Goldfish), the structure of modes evolution implies something deeper. The first narrow net (highest singular value) converges fastest, while the last four narrow nets, converge almost simultaneously and have the smallest singular values. Maybe, one narrow net is learning the difference between \"living things\" and \"objects\", while another narrow net is learning the difference between Fish and Birds. And the narrow nets that are learning more informative distinction are trained first. So, how could we check this hypothesis?\n",
        "\n",
        "Representational Similarity Analysis (RSA) is an approach that could help us understand the internal representation of our network. The main idea is that the activity of hidden units (neurons) in the network must be similar when the network is presented with similar input. For our dataset (hierarchically structured data), we expect the activity of neurons in the hidden layer to be more similar for Tuna and Canary, and less similar for Tuna and Oak.\n",
        "\n",
        "If we perform RSA in every training iteration, we may be able to see whether the narrow nets are learning the representations or our hypothesis is empty."
      ]
    },
    {
      "cell_type": "markdown",
      "metadata": {
        "execution": {},
        "id": "_r3vuQ1IzN2x"
      },
      "source": [
        "## Coding Exercise 3: RSA\n",
        "\n",
        "The task is simple. We would need to measure the similarity between hidden layer activities $~\\mathbf{h} =  \\mathbf{x} ~\\mathbf{W_1}$) for every input $\\mathbf{x}$.\n",
        "\n",
        "For similarity measure, we can use the good old dot (scalar) product, which is also called cosine similarity. For calculating the dot product between multiple vectors (which would be our case), you can simply use matrix multiplication. Therefore the Representational Similarity Matrix for multiple-input (batch) activity could be calculated as follow:\n",
        "\n",
        "\\begin{equation}\n",
        "RSM = \\mathbf{H} \\mathbf{H}^{\\top}\n",
        "\\end{equation}\n",
        "\n",
        "where $\\mathbf{H} = \\mathbf{X} \\mathbf{W_1}$ is the activity of hidden neurons for a given batch $\\mathbf{X}$.\n",
        "\n",
        "If we perform RSA in every iteration, we could also see the evolution of representation learning."
      ]
    },
    {
      "cell_type": "code",
      "metadata": {
        "execution": {},
        "id": "1c3mawcXzN2y"
      },
      "source": [
        "def ex_net_rsm(h):\n",
        "  \"\"\"Calculates the Representational Similarity Matrix\n",
        "\n",
        "  Arg:\n",
        "    h (torch.Tensor): activity of a hidden layer\n",
        "\n",
        "  Returns:\n",
        "    (torch.Tensor): Representational Similarity Matrix\n",
        "  \"\"\"\n",
        "  #################################################\n",
        "  ## Calculate the Representational Similarity Matrix\n",
        "  # Complete the function and remove or comment the line below\n",
        "  raise NotImplementedError(\"Function `ex_net_rsm`\")\n",
        "  #################################################\n",
        "  rsm = ...\n",
        "  return rsm\n",
        "\n",
        "#add event to airtable\n",
        "atform.add_event(' Coding Exercise 3: RSA')\n",
        "\n",
        "## Uncomment and run\n",
        "# test_net_rsm_ex(SEED)"
      ],
      "execution_count": null,
      "outputs": []
    },
    {
      "cell_type": "markdown",
      "metadata": {
        "execution": {},
        "id": "MFrVs8F2zN2y"
      },
      "source": [
        "[*Click for solution*](https://github.com/NeuromatchAcademy/course-content-dl/tree/main//tutorials/W1D2_LinearDeepLearning/solutions/W1D2_Tutorial3_Solution_394c7d85.py)\n",
        "\n"
      ]
    },
    {
      "cell_type": "markdown",
      "metadata": {
        "execution": {},
        "id": "6K-lZ7E6zN2y"
      },
      "source": [
        "Now we can train the model while recording the losses, modes, and RSMs at every iteration. First, use the epoch slider to explore the evolution of RSM without changing default lr ($\\eta$) and initialization ($\\gamma$). Then, as we did before, set $\\eta$ and $\\gamma$ to larger values to see whether you can retrieve the sequential structured learning of representations."
      ]
    },
    {
      "cell_type": "code",
      "metadata": {
        "cellView": "form",
        "execution": {},
        "id": "__g-ME3kzN2z"
      },
      "source": [
        "#@markdown #### Make sure you execute this cell to enable widgets\n",
        "\n",
        "def loss_svd_rsm_lr_gamma(lr, gamma, i_ep):\n",
        "  \"\"\"\n",
        "  Args:\n",
        "    lr (float): learning rate\n",
        "    gamma (float): initialization scale\n",
        "    i_ep (int): which epoch to show\n",
        "\n",
        "  \"\"\"\n",
        "  n_epochs = 250  # number of epochs\n",
        "  dim_input = 8  # input dimension = `label_tensor.size(1)`\n",
        "  dim_hidden = 30  # hidden neurons\n",
        "  dim_output = 10000  # output dimension = `feature_tensor.size(1)`\n",
        "\n",
        "  # model instantiation\n",
        "  dlnn_model = LNNet(dim_input, dim_hidden, dim_output)\n",
        "\n",
        "  # weights re-initialization\n",
        "  initializer_(dlnn_model, gamma)\n",
        "\n",
        "  # training\n",
        "  losses, modes, rsms, _ = train(dlnn_model,\n",
        "                                 label_tensor,\n",
        "                                 feature_tensor,\n",
        "                                 n_epochs=n_epochs,\n",
        "                                 lr=lr)\n",
        "  plot_loss_sv_rsm(losses, modes, rsms, i_ep)\n",
        "\n",
        "i_ep_slider = IntSlider(min=10, max=241, step=1, value=61,\n",
        "                        continuous_update=False,\n",
        "                        description='Epoch',\n",
        "                        layout=Layout(width='630px'))\n",
        "\n",
        "lr_slider = FloatSlider(min=20.0, max=200.0, step=1.0, value=100.0,\n",
        "                        continuous_update=False,\n",
        "                        readout_format='.1f',\n",
        "                        description='eta')\n",
        "\n",
        "gamma_slider = FloatLogSlider(min=-15, max=1, step=1,\n",
        "                              value=1e-12, base=10,\n",
        "                              continuous_update=False,\n",
        "                              description='gamma')\n",
        "\n",
        "widgets_ui = VBox([lr_slider, gamma_slider, i_ep_slider])\n",
        "\n",
        "widgets_out = interactive_output(loss_svd_rsm_lr_gamma,\n",
        "                                 {'lr': lr_slider,\n",
        "                                  'gamma': gamma_slider,\n",
        "                                  'i_ep': i_ep_slider})\n",
        "\n",
        "display(widgets_ui, widgets_out)"
      ],
      "execution_count": null,
      "outputs": []
    },
    {
      "cell_type": "markdown",
      "metadata": {
        "execution": {},
        "id": "32r2EaRyzN2z"
      },
      "source": [
        "Let's take a moment to analyze this more. A deep neural net is learning the representations, rather than a naive mapping (look-up table). This is thought to be the reason for deep neural nets supreme generalization and transfer learning ability. Unsurprisingly, neural nets with no hidden layer are incapable of representation learning, even with extremely small initialization."
      ]
    },
    {
      "cell_type": "code",
      "metadata": {
        "cellView": "form",
        "execution": {},
        "id": "aGrLkZSHzN2z"
      },
      "source": [
        "# @title Video 5: RSA - Discussion\n",
        "from ipywidgets import widgets\n",
        "\n",
        "out2 = widgets.Output()\n",
        "with out2:\n",
        "  from IPython.display import IFrame\n",
        "  class BiliVideo(IFrame):\n",
        "    def __init__(self, id, page=1, width=400, height=300, **kwargs):\n",
        "      self.id=id\n",
        "      src = \"https://player.bilibili.com/player.html?bvid={0}&page={1}\".format(id, page)\n",
        "      super(BiliVideo, self).__init__(src, width, height, **kwargs)\n",
        "\n",
        "  video = BiliVideo(id=f\"BV18y4y1j7Xr\", width=854, height=480, fs=1)\n",
        "  print(\"Video available at https://www.bilibili.com/video/{0}\".format(video.id))\n",
        "  display(video)\n",
        "\n",
        "out1 = widgets.Output()\n",
        "with out1:\n",
        "  from IPython.display import YouTubeVideo\n",
        "  video = YouTubeVideo(id=f\"vprldATyq1o\", width=854, height=480, fs=1, rel=0)\n",
        "  print(\"Video available at https://youtube.com/watch?v=\" + video.id)\n",
        "  display(video)\n",
        "\n",
        "out = widgets.Tab([out1, out2])\n",
        "out.set_title(0, 'Youtube')\n",
        "out.set_title(1, 'Bilibili')\n",
        "\n",
        "#add event to airtable\n",
        "atform.add_event('Video 5: RSA - Discussion')\n",
        "display(out)"
      ],
      "execution_count": null,
      "outputs": []
    },
    {
      "cell_type": "markdown",
      "metadata": {
        "execution": {},
        "id": "c_x3txy6zN20"
      },
      "source": [
        "---\n",
        "# Section 4: Illusory Correlations\n",
        "\n",
        "*Time estimate: ~20-30 mins*"
      ]
    },
    {
      "cell_type": "code",
      "metadata": {
        "cellView": "form",
        "execution": {},
        "id": "oLl2dJONzN20"
      },
      "source": [
        "# @title Video 6: Illusory Correlations\n",
        "from ipywidgets import widgets\n",
        "\n",
        "out2 = widgets.Output()\n",
        "with out2:\n",
        "  from IPython.display import IFrame\n",
        "  class BiliVideo(IFrame):\n",
        "    def __init__(self, id, page=1, width=400, height=300, **kwargs):\n",
        "      self.id=id\n",
        "      src = \"https://player.bilibili.com/player.html?bvid={0}&page={1}\".format(id, page)\n",
        "      super(BiliVideo, self).__init__(src, width, height, **kwargs)\n",
        "\n",
        "  video = BiliVideo(id=f\"BV1vv411E7Sq\", width=854, height=480, fs=1)\n",
        "  print(\"Video available at https://www.bilibili.com/video/{0}\".format(video.id))\n",
        "  display(video)\n",
        "\n",
        "out1 = widgets.Output()\n",
        "with out1:\n",
        "  from IPython.display import YouTubeVideo\n",
        "  video = YouTubeVideo(id=f\"RxsAvyIoqEo\", width=854, height=480, fs=1, rel=0)\n",
        "  print(\"Video available at https://youtube.com/watch?v=\" + video.id)\n",
        "  display(video)\n",
        "\n",
        "out = widgets.Tab([out1, out2])\n",
        "out.set_title(0, 'Youtube')\n",
        "out.set_title(1, 'Bilibili')\n",
        "\n",
        "#add event to airtable\n",
        "atform.add_event('Video 6: Illusory Correlations')\n",
        "\n",
        "display(out)"
      ],
      "execution_count": null,
      "outputs": []
    },
    {
      "cell_type": "markdown",
      "metadata": {
        "execution": {},
        "id": "dm3nkscOzN20"
      },
      "source": [
        "So far, everything looks great and all our trainings are successful (training loss converging to zero), and very fast. We even could interpret the dynamics of our deep linear networks and relate them to the data. Unfortunately, this rarely happens in practice. Real-world problems often require very deep and nonlinear networks with many hyper-parameters. And ordinarily, these complex networks take hours, if not days, to train.\n",
        "\n",
        "Let's recall the training loss curves. There was often a long plateau (where the weights are stuck at a saddle point), followed by a sudden drop. For very deep complex neural nets, such plateaus can last for hours of training, and we often decide to stop the training because we believe it \"as good as it gets\"! This raises the challenge of whether the network has learned all the \"intended\" hidden representations. But more importantly, the network might find an illusionary correlation between features that has never seen.\n",
        "\n",
        "To better understand this, let's do the next demonstration and exercise."
      ]
    },
    {
      "cell_type": "markdown",
      "metadata": {
        "execution": {},
        "id": "SN73MVMGzN21"
      },
      "source": [
        "## Demonstration: Illusory Correlations\n",
        "\n",
        "Our original dataset has 4 animals: Canary, Robin, Goldfish, and Tuna. These animals all have bones. Therefore if we include a \"has bone\" feature, the network would learn it at the second level (i.e. second bump, second mode convergence), when it learns the animal-plants distinction.\n",
        "\n",
        "What if the dataset has Shark instead of Goldfish. Sharks don't have bones (their skeletons are made of cartilaginous, which is much lighter than true bone and more flexible). Then we will have a feature which is *True* (i.e. +1) for Tuna, Robin, and Canary, but *False* (i.e. -1) for all the plants and the shark! Let's see what the network does.\n",
        "\n",
        "First, we add the new feature to the targets. We then start training our LNN and in every epoch, record the network prediction for \"sharks having bones\".\n",
        "\n",
        "<center><img src=\"https://raw.githubusercontent.com/NeuromatchAcademy/course-content-dl/main/tutorials/W1D2_LinearDeepLearning/static/shark_tree.png\" alt=\"Simple nn graph\" width=\"600\"/></center>"
      ]
    },
    {
      "cell_type": "code",
      "metadata": {
        "execution": {},
        "id": "rrERo__NzN21"
      },
      "source": [
        "# sampling new data from the tree\n",
        "tree_labels, tree_features = generate_hsd()\n",
        "\n",
        "# replacing Goldfish with Shark\n",
        "item_names = ['Shark', 'Tuna', 'Robin', 'Canary',\n",
        "              'Rose', 'Daisy', 'Pine', 'Oak']\n",
        "\n",
        "# index of label to record\n",
        "illusion_idx = 0  # Shark is the first element\n",
        "\n",
        "# the new feature (has bones) vector\n",
        "new_feature = [-1, 1, 1, 1, -1, -1, -1, -1]\n",
        "its_label = 'has_bones'\n",
        "\n",
        "# adding feature has_bones to the feature array\n",
        "tree_features = add_feature(tree_features, new_feature)\n",
        "\n",
        "# plotting\n",
        "plot_tree_data(item_names, tree_features, its_label)"
      ],
      "execution_count": null,
      "outputs": []
    },
    {
      "cell_type": "markdown",
      "metadata": {
        "execution": {},
        "id": "a9k2kWUozN22"
      },
      "source": [
        "You can see the new feature shown in the last column of the plot above.\n",
        "\n",
        "Now we can train the network on the new data, and record the network prediction (output) for Shark (indexed 0) label and \"has bone\" feature (last feature, indexed -1), during the training.\n",
        "\n",
        "Here is the snippet from the training loop that keeps track of network prediction for `illusory_i`th label and last (`-1`) feature:\n",
        "\n",
        "```python\n",
        "pred_ij = predictions.detach()[illusory_i, -1]\n",
        "```"
      ]
    },
    {
      "cell_type": "code",
      "metadata": {
        "cellView": "form",
        "execution": {},
        "id": "1bPtRRd9zN22"
      },
      "source": [
        "#@markdown #### Make sure you execute this cell to train the network and plot\n",
        "\n",
        "# convert (cast) data from np.ndarray to torch.Tensor\n",
        "label_tensor = torch.tensor(tree_labels).float()\n",
        "feature_tensor = torch.tensor(tree_features).float()\n",
        "\n",
        "lr = 100.0  # learning rate\n",
        "gamma = 1e-12  # initialization scale\n",
        "n_epochs = 250  # number of epochs\n",
        "dim_input = 8  # input dimension = `label_tensor.size(1)`\n",
        "dim_hidden = 30  # hidden neurons\n",
        "dim_output = feature_tensor.size(1)\n",
        "\n",
        "# model instantiation\n",
        "dlnn_model = LNNet(dim_input, dim_hidden, dim_output)\n",
        "\n",
        "# weights re-initialization\n",
        "initializer_(dlnn_model, gamma)\n",
        "\n",
        "# training\n",
        "_, modes, _, ill_predictions = train(dlnn_model,\n",
        "                                     label_tensor,\n",
        "                                     feature_tensor,\n",
        "                                     n_epochs=n_epochs,\n",
        "                                     lr=lr,\n",
        "                                     illusory_i=illusion_idx)\n",
        "\n",
        "# a label for the plot\n",
        "ill_label = f\"Prediction for {item_names[illusion_idx]} {its_label}\"\n",
        "\n",
        "# plotting\n",
        "plot_ills_sv_twin(ill_predictions, modes, ill_label)"
      ],
      "execution_count": null,
      "outputs": []
    },
    {
      "cell_type": "markdown",
      "metadata": {
        "execution": {},
        "id": "4BreK52vzN22"
      },
      "source": [
        "It seems that the network starts by learning an \"illusory correlation\" that sharks have bones, and in later epochs, as it learns deeper representations, it can see (learn) beyond the illusory correlation. This is important to remember that we never presented the network with any data saying that sharks have bones."
      ]
    },
    {
      "cell_type": "markdown",
      "metadata": {
        "execution": {},
        "id": "Rrru81SVzN22"
      },
      "source": [
        "## Exercise 4: Illusory Correlations\n",
        "\n",
        "This exercise is just for you to explore the idea of illusory correlations. Think of medical, natural, or possibly social illusory correlations which can test the learning power of deep linear neural nets.\n",
        "\n",
        "**important notes**: the generated data is independent of tree labels, therefore the names are just for convenience.\n",
        "\n",
        "Here is our example for **Non-human Living things do not speak**. The lines marked by `{edit}` are for you to change in your example.\n"
      ]
    },
    {
      "cell_type": "code",
      "metadata": {
        "execution": {},
        "id": "BkyimtFmzN23"
      },
      "source": [
        "# sampling new data from the tree\n",
        "tree_labels, tree_features = generate_hsd()\n",
        "\n",
        "# {edit} replacing Canary with Parrot\n",
        "item_names = ['Goldfish', 'Tuna', 'Robin', 'Parrot',\n",
        "              'Rose', 'Daisy', 'Pine', 'Oak']\n",
        "\n",
        "# {edit} index of label to record\n",
        "illusion_idx = 3  # Parrot is the fourth element\n",
        "\n",
        "# {edit} the new feature (cannot speak) vector\n",
        "new_feature = [1, 1, 1, -1, 1, 1, 1, 1]\n",
        "its_label = 'cannot_speak'\n",
        "\n",
        "# adding feature has_bones to the feature array\n",
        "tree_features = add_feature(tree_features, new_feature)\n",
        "\n",
        "# plotting\n",
        "plot_tree_data(item_names, tree_features, its_label)"
      ],
      "execution_count": null,
      "outputs": []
    },
    {
      "cell_type": "code",
      "metadata": {
        "cellView": "form",
        "execution": {},
        "id": "1nAw8raOzN23"
      },
      "source": [
        "# @markdown #### Make sure you execute this cell to train the network and plot\n",
        "\n",
        "# convert (cast) data from np.ndarray to torch.Tensor\n",
        "label_tensor = torch.tensor(tree_labels).float()\n",
        "feature_tensor = torch.tensor(tree_features).float()\n",
        "\n",
        "lr = 100.0  # learning rate\n",
        "gamma = 1e-12  # initialization scale\n",
        "n_epochs = 250  # number of epochs\n",
        "dim_input = 8  # input dimension = `label_tensor.size(1)`\n",
        "dim_hidden = 30  # hidden neurons\n",
        "dim_output = feature_tensor.size(1)\n",
        "\n",
        "# model instantiation\n",
        "dlnn_model = LNNet(dim_input, dim_hidden, dim_output)\n",
        "\n",
        "# weights re-initialization\n",
        "initializer_(dlnn_model, gamma)\n",
        "\n",
        "# training\n",
        "_, modes, _, ill_predictions = train(dlnn_model,\n",
        "                                     label_tensor,\n",
        "                                     feature_tensor,\n",
        "                                     n_epochs=n_epochs,\n",
        "                                     lr=lr,\n",
        "                                     illusory_i=illusion_idx)\n",
        "\n",
        "# a label for the plot\n",
        "ill_label = f\"Prediction for {item_names[illusion_idx]} {its_label}\"\n",
        "\n",
        "# plotting\n",
        "plot_ills_sv_twin(ill_predictions, modes, ill_label)"
      ],
      "execution_count": null,
      "outputs": []
    },
    {
      "cell_type": "code",
      "metadata": {
        "cellView": "form",
        "execution": {},
        "id": "QvO-c7O2zN24"
      },
      "source": [
        "# @title Video 7: Illusory Correlations - Discussion\n",
        "from ipywidgets import widgets\n",
        "\n",
        "out2 = widgets.Output()\n",
        "with out2:\n",
        "  from IPython.display import IFrame\n",
        "  class BiliVideo(IFrame):\n",
        "    def __init__(self, id, page=1, width=400, height=300, **kwargs):\n",
        "      self.id=id\n",
        "      src = \"https://player.bilibili.com/player.html?bvid={0}&page={1}\".format(id, page)\n",
        "      super(BiliVideo, self).__init__(src, width, height, **kwargs)\n",
        "\n",
        "  video = BiliVideo(id=f\"BV1vv411E7rg\", width=854, height=480, fs=1)\n",
        "  print(\"Video available at https://www.bilibili.com/video/{0}\".format(video.id))\n",
        "  display(video)\n",
        "\n",
        "out1 = widgets.Output()\n",
        "with out1:\n",
        "  from IPython.display import YouTubeVideo\n",
        "  video = YouTubeVideo(id=f\"6VLHKQjQJmI\", width=854, height=480, fs=1, rel=0)\n",
        "  print(\"Video available at https://youtube.com/watch?v=\" + video.id)\n",
        "  display(video)\n",
        "\n",
        "out = widgets.Tab([out1, out2])\n",
        "out.set_title(0, 'Youtube')\n",
        "out.set_title(1, 'Bilibili')\n",
        "\n",
        "#add event to airtable\n",
        "atform.add_event('Video 7: Illusory Correlations')\n",
        "\n",
        "display(out)"
      ],
      "execution_count": null,
      "outputs": []
    },
    {
      "cell_type": "markdown",
      "metadata": {
        "execution": {},
        "id": "-KOrhzPszN24"
      },
      "source": [
        "---\n",
        "# Summary\n",
        "\n",
        "The second day of the course has ended. So, in the third tutorial of the linear deep learning day we have learned more advanced topics. In the beginning we implemented a deep linear neural network and then we studied its learning dynamics using the linear algebra tool called singular value decomposition. Then, we learned about the representational similarity analysis and the illusory correlation."
      ]
    },
    {
      "cell_type": "code",
      "metadata": {
        "cellView": "form",
        "execution": {},
        "id": "FbJAXDAWzN25"
      },
      "source": [
        "# @title Video 8: Outro\n",
        "from ipywidgets import widgets\n",
        "\n",
        "out2 = widgets.Output()\n",
        "with out2:\n",
        "  from IPython.display import IFrame\n",
        "  class BiliVideo(IFrame):\n",
        "    def __init__(self, id, page=1, width=400, height=300, **kwargs):\n",
        "      self.id=id\n",
        "      src = \"https://player.bilibili.com/player.html?bvid={0}&page={1}\".format(id, page)\n",
        "      super(BiliVideo, self).__init__(src, width, height, **kwargs)\n",
        "\n",
        "  video = BiliVideo(id=f\"BV1AL411n7ns\", width=854, height=480, fs=1)\n",
        "  print(\"Video available at https://www.bilibili.com/video/{0}\".format(video.id))\n",
        "  display(video)\n",
        "\n",
        "out1 = widgets.Output()\n",
        "with out1:\n",
        "  from IPython.display import YouTubeVideo\n",
        "  video = YouTubeVideo(id=f\"N2szOIsKyXE\", width=854, height=480, fs=1, rel=0)\n",
        "  print(\"Video available at https://youtube.com/watch?v=\" + video.id)\n",
        "  display(video)\n",
        "\n",
        "out = widgets.Tab([out1, out2])\n",
        "out.set_title(0, 'Youtube')\n",
        "out.set_title(1, 'Bilibili')\n",
        "\n",
        "#add event to airtable\n",
        "atform.add_event('Video 8: Outro')\n",
        "\n",
        "display(out)"
      ],
      "execution_count": null,
      "outputs": []
    },
    {
      "cell_type": "code",
      "metadata": {
        "cellView": "form",
        "execution": {},
        "id": "YQXnLwcezN25"
      },
      "source": [
        "# @title Airtable Submission Link\n",
        "from IPython import display as IPydisplay\n",
        "IPydisplay.HTML(\n",
        "   f\"\"\"\n",
        " <div>\n",
        "   <a href= \"{atform.url()}\" target=\"_blank\">\n",
        "   <img src=\"https://github.com/NeuromatchAcademy/course-content-dl/blob/main/tutorials/static/SurveyButton.png?raw=1\"\n",
        " alt=\"button link end of day Survey\" style=\"width:410px\"></a>\n",
        "   </div>\"\"\" )"
      ],
      "execution_count": null,
      "outputs": []
    },
    {
      "cell_type": "markdown",
      "metadata": {
        "execution": {},
        "id": "m5qjPXmszN26"
      },
      "source": [
        "---\n",
        "# Bonus\n",
        "\n",
        "*Time estimate: ~20-30 mins*"
      ]
    },
    {
      "cell_type": "code",
      "metadata": {
        "cellView": "form",
        "execution": {},
        "id": "PJmQMiRgzN26"
      },
      "source": [
        "# @title Video 9: Linear Regression\n",
        "from ipywidgets import widgets\n",
        "\n",
        "out2 = widgets.Output()\n",
        "with out2:\n",
        "  from IPython.display import IFrame\n",
        "  class BiliVideo(IFrame):\n",
        "    def __init__(self, id, page=1, width=400, height=300, **kwargs):\n",
        "      self.id=id\n",
        "      src = \"https://player.bilibili.com/player.html?bvid={0}&page={1}\".format(id, page)\n",
        "      super(BiliVideo, self).__init__(src, width, height, **kwargs)\n",
        "\n",
        "  video = BiliVideo(id=f\"BV1Pf4y1L71L\", width=854, height=480, fs=1)\n",
        "  print(\"Video available at https://www.bilibili.com/video/{0}\".format(video.id))\n",
        "  display(video)\n",
        "\n",
        "out1 = widgets.Output()\n",
        "with out1:\n",
        "  from IPython.display import YouTubeVideo\n",
        "  video = YouTubeVideo(id=f\"uULOAbhYaaE\", width=854, height=480, fs=1, rel=0)\n",
        "  print(\"Video available at https://youtube.com/watch?v=\" + video.id)\n",
        "  display(video)\n",
        "\n",
        "out = widgets.Tab([out1, out2])\n",
        "out.set_title(0, 'Youtube')\n",
        "out.set_title(1, 'Bilibili')\n",
        "\n",
        "display(out)"
      ],
      "execution_count": null,
      "outputs": []
    },
    {
      "cell_type": "markdown",
      "metadata": {
        "execution": {},
        "id": "eivypxslzN26"
      },
      "source": [
        "## Section 5.1: Linear Regression\n",
        "\n",
        "Generally, *regression* refers to a set of methods for modeling the mapping (relationship) between one (or more) independent variable(s) (i.e., features) and one (or more) dependent variable(s) (i.e., labels). For example, if we want to examine the relative impacts of calendar date, GPS coordinates, and time of the say (the independent variables) on air temperature (the dependent variable). On the other hand, regression can be used for predictive analysis. Thus the independent variables are also called predictors. When the model contains more than one predictor, then the method is called *multiple regression*, and if it contains more than one dependent variable called *multivariate regression*. Regression problems pop up whenever we want to predict a numerical (usually continuous) value.\n",
        "\n",
        "The independent variables are collected in vector $\\mathbf{x} \\in \\mathbb{R}^M$, where $M$ denotes the number of independent variables, while the dependent variables are collected in vector $\\mathbf{y} \\in \\mathbb{R}^N$, where $N$ denotes the number of dependent variables. And the mapping between them is represented by the weight matrix $\\mathbf{W} \\in \\mathbb{R}^{N \\times M}$ and a bias vector $\\mathbf{b} \\in \\mathbb{R}^{N}$ (generalizing to affine mappings).\n",
        "\n",
        "The multivariate regression model can be written as:\n",
        "\n",
        "\\begin{equation}\n",
        "\\mathbf{y} = \\mathbf{W} ~ \\mathbf{x} + \\mathbf{b}\n",
        "\\end{equation}\n",
        "\n",
        "or it can be written in matrix format as:\n",
        "\n",
        "\\begin{equation}\n",
        "\\begin{bmatrix} y_{1} \\\\ y_{2} \\\\ \\vdots \\\\ y_{N} \\\\ \\end{bmatrix} = \\begin{bmatrix} w_{1,1} & w_{1,2} & \\dots & w_{1,M} \\\\ w_{2,1} & w_{2,2} & \\dots & w_{2,M} \\\\ \\vdots & \\ddots & \\ddots & \\vdots \\\\ w_{N,1} & w_{N,2} & \\dots & w_{N,M} \\end{bmatrix} \\begin{bmatrix} x_{1} \\\\ x_{2} \\\\ \\vdots \\\\ x_{M} \\\\ \\end{bmatrix} + \\begin{bmatrix} b_{1} \\\\ b_{2} \\\\ \\vdots \\\\b_{N} \\\\ \\end{bmatrix}\n",
        "\\end{equation}\n"
      ]
    },
    {
      "cell_type": "markdown",
      "metadata": {
        "execution": {},
        "id": "GxbfAWeJzN27"
      },
      "source": [
        "## Section 5.2: Vectorized regression\n",
        "\n",
        "Linear regression can be simply extended to multi-samples ($D$) input-output mapping, which we can collect in a matrix $\\mathbf{X} \\in \\mathbb{R}^{M \\times D}$, sometimes called the design matrix. The sample dimension also shows up in the output matrix $\\mathbf{Y} \\in \\mathbb{R}^{N \\times D}$. Thus, linear regression takes the following form:\n",
        "\n",
        "\\begin{equation}\n",
        "\\mathbf{Y} = \\mathbf{W} ~ \\mathbf{X} + \\mathbf{b}\n",
        "\\end{equation}\n",
        "\n",
        "where matrix $\\mathbf{W} \\in \\mathbb{R}^{N \\times M}$ and the vector $\\mathbf{b} \\in \\mathbb{R}^{N}$ (broadcasted over sample dimension) are the desired parameters to find."
      ]
    },
    {
      "cell_type": "markdown",
      "metadata": {
        "execution": {},
        "id": "3eqLRVanzN27"
      },
      "source": [
        "## Section 5.3: Analytical Linear Regression"
      ]
    },
    {
      "cell_type": "markdown",
      "metadata": {
        "execution": {},
        "id": "9BfK4aIOzN27"
      },
      "source": [
        "Linear regression is a relatively simple optimization problem. Unlike most other models that we will see in this course, linear regression for mean squared loss can be solved analytically.\n",
        "\n",
        "For $D$ samples (batch size), $\\mathbf{X} \\in \\mathbb{R}^{M \\times D}$, and $\\mathbf{Y} \\in \\mathbb{R}^{N \\times D}$, the goal of linear regression is to find $\\mathbf{W} \\in \\mathbb{R}^{N \\times M}$ such that:\n",
        "\n",
        "\\begin{equation}\n",
        "\\mathbf{Y} = \\mathbf{W} ~ \\mathbf{X}\n",
        "\\end{equation}\n",
        "\n",
        "Given the Squared Error loss function, we have:\n",
        "\n",
        "\\begin{equation}\n",
        "Loss(\\mathbf{W}) = ||\\mathbf{Y} - \\mathbf{W} ~ \\mathbf{X}||^2\n",
        "\\end{equation}\n",
        "\n",
        "So, using matrix notation, the optimization problem is given by:\n",
        "\n",
        "\\begin{align}\n",
        "\\mathbf{W^{*}} &= \\underset{\\mathbf{W}}{\\mathrm{argmin}} \\left( Loss (\\mathbf{W})  \\right) \\\\\n",
        " &= \\underset{\\mathbf{W}}{\\mathrm{argmin}} \\left( ||\\mathbf{Y} - \\mathbf{W} ~ \\mathbf{X}||^2  \\right) \\\\\n",
        "&= \\underset{\\mathbf{W}}{\\mathrm{argmin}} \\left( \\left( \\mathbf{Y} - \\mathbf{W} ~ \\mathbf{X}\\right)^{\\top} \\left( \\mathbf{Y} - \\mathbf{W} ~ \\mathbf{X}\\right) \\right)\n",
        "\\end{align}\n",
        "\n",
        "To solve the minimization problem, we can simply set the derivative of the loss with respect to $\\mathbf{W}$ to zero.\n",
        "\n",
        "\\begin{equation}\n",
        "\\dfrac{\\partial Loss}{\\partial \\mathbf{W}} = 0\n",
        "\\end{equation}\n",
        "\n",
        "Assuming that $\\mathbf{X}\\mathbf{X}^{\\top}$ is full-rank, and thus it is invertible we can write:\n",
        "\n",
        "\\begin{equation}\n",
        "\\mathbf{W}^{\\mathbf{*}} = \\mathbf{Y} \\mathbf{X}^{\\top} \\left( \\mathbf{X}  \\mathbf{X}^{\\top} \\right) ^{-1}\n",
        "\\end{equation}\n",
        "\n"
      ]
    },
    {
      "cell_type": "markdown",
      "metadata": {
        "execution": {},
        "id": "t1hqL_djzN28"
      },
      "source": [
        "### Coding Exercise 5.3.1: Analytical solution to LR\n",
        "\n",
        "Complete the function `linear_regression` for finding the analytical solution to linear regression.\n"
      ]
    },
    {
      "cell_type": "code",
      "metadata": {
        "execution": {},
        "id": "vdgZ367zzN28"
      },
      "source": [
        "def linear_regression(X, Y):\n",
        "  \"\"\"Analytical Linear regression\n",
        "\n",
        "  Args:\n",
        "    X (np.ndarray): design matrix\n",
        "    Y (np.ndarray): target ouputs\n",
        "\n",
        "  return:\n",
        "    np.ndarray: estimated weights (mapping)\n",
        "  \"\"\"\n",
        "  assert isinstance(X, np.ndarray)\n",
        "  assert isinstance(Y, np.ndarray)\n",
        "  M, Dx = X.shape\n",
        "  N, Dy = Y.shape\n",
        "  assert Dx == Dy\n",
        "  #################################################\n",
        "  ## Complete the linear_regression_exercise function\n",
        "  # Complete the function and remove or comment the line below\n",
        "  raise NotImplementedError(\"Linear Regression `linear_regression`\")\n",
        "  #################################################\n",
        "  W = ...\n",
        "\n",
        "  return W\n",
        "\n",
        "\n",
        "W_true = np.random.randint(low=0, high=10, size=(3, 3)).astype(float)\n",
        "\n",
        "X_train = np.random.rand(3, 37)  # 37 samples\n",
        "noise = np.random.normal(scale=0.01, size=(3, 37))\n",
        "Y_train = W_true @ X_train + noise\n",
        "\n",
        "## Uncomment and run\n",
        "# W_estimate = linear_regression(X_train, Y_train)\n",
        "# print(f\"True weights:\\n {W_true}\")\n",
        "# print(f\"\\nEstimated weights:\\n {np.round(W_estimate, 1)}\")"
      ],
      "execution_count": null,
      "outputs": []
    },
    {
      "cell_type": "markdown",
      "metadata": {
        "execution": {},
        "id": "NiegYgHPzN28"
      },
      "source": [
        "[*Click for solution*](https://github.com/NeuromatchAcademy/course-content-dl/tree/main//tutorials/W1D2_LinearDeepLearning/solutions/W1D2_Tutorial3_Solution_55ea556e.py)\n",
        "\n"
      ]
    },
    {
      "cell_type": "markdown",
      "metadata": {
        "execution": {},
        "id": "6HilxT7mzN29"
      },
      "source": [
        "## Demonstration: Linear Regression vs. DLNN\n",
        "\n",
        "A linear neural network with NO hidden layer is very similar to linear regression in its core. We also know that no matter how many hidden layers a linear network has, it can be compressed to linear regression (no hidden layers).\n",
        "\n",
        "In this demonstration, we use the hierarchically structured data to:\n",
        "\n",
        "* analytically find the mapping between features and labels\n",
        "* train a zero-depth LNN to find the mapping \n",
        "* compare them to the $W_{tot}$ from the already trained deep LNN"
      ]
    },
    {
      "cell_type": "code",
      "metadata": {
        "execution": {},
        "id": "mwlp8g_NzN29"
      },
      "source": [
        "# sampling new data from the tree\n",
        "tree_labels, tree_features = generate_hsd()\n",
        "\n",
        "# convert (cast) data from np.ndarray to torch.Tensor\n",
        "label_tensor = torch.tensor(tree_labels).float()\n",
        "feature_tensor = torch.tensor(tree_features).float()"
      ],
      "execution_count": null,
      "outputs": []
    },
    {
      "cell_type": "code",
      "metadata": {
        "execution": {},
        "id": "lHOY_bJmzN29"
      },
      "source": [
        "# calculating the W_tot for deep network (already trained model)\n",
        "\n",
        "lr = 100.0  # learning rate\n",
        "gamma = 1e-12  # initialization scale\n",
        "n_epochs = 250  # number of epochs\n",
        "dim_input = 8  # input dimension = `label_tensor.size(1)`\n",
        "dim_hidden = 30  # hidden neurons\n",
        "dim_output = 10000  # output dimension = `feature_tensor.size(1)`\n",
        "\n",
        "# model instantiation\n",
        "dlnn_model = LNNet(dim_input, dim_hidden, dim_output)\n",
        "\n",
        "# weights re-initialization\n",
        "initializer_(dlnn_model, gamma)\n",
        "\n",
        "# training\n",
        "losses, modes, rsms, ills = train(dlnn_model,\n",
        "                                  label_tensor,\n",
        "                                  feature_tensor,\n",
        "                                  n_epochs=n_epochs,\n",
        "                                  lr=lr)\n",
        "\n",
        "deep_W_tot = torch.eye(dim_input)\n",
        "for weight in dlnn_model.parameters():\n",
        "  deep_W_tot = weight @ deep_W_tot\n",
        "deep_W_tot = deep_W_tot.detach().numpy()"
      ],
      "execution_count": null,
      "outputs": []
    },
    {
      "cell_type": "code",
      "metadata": {
        "execution": {},
        "id": "w4Km1mwxzN2-"
      },
      "source": [
        "# analytically estimation of weights\n",
        "# our data is batch first dimension, so we need to transpose our data\n",
        "analytical_weights = linear_regression(tree_labels.T, tree_features.T)"
      ],
      "execution_count": null,
      "outputs": []
    },
    {
      "cell_type": "code",
      "metadata": {
        "execution": {},
        "id": "smlpDdM-zN2-"
      },
      "source": [
        "class LRNet(nn.Module):\n",
        "  \"\"\"A Linear Neural Net with ZERO hidden layer (LR net)\n",
        "  \"\"\"\n",
        "\n",
        "  def __init__(self, in_dim, out_dim):\n",
        "    \"\"\"\n",
        "    Args:\n",
        "      in_dim (int): input dimension\n",
        "      hid_dim (int): hidden dimension\n",
        "    \"\"\"\n",
        "    super().__init__()\n",
        "    self.in_out = nn.Linear(in_dim, out_dim, bias=False)\n",
        "\n",
        "  def forward(self, x):\n",
        "    \"\"\"\n",
        "    Args:\n",
        "      x (torch.Tensor): input tensor\n",
        "    \"\"\"\n",
        "    out = self.in_out(x)  # output (prediction)\n",
        "    return out"
      ],
      "execution_count": null,
      "outputs": []
    },
    {
      "cell_type": "code",
      "metadata": {
        "execution": {},
        "id": "oP6V8dCxzN2-"
      },
      "source": [
        "lr = 1000.0  # learning rate\n",
        "gamma = 1e-12  # initialization scale\n",
        "n_epochs = 250  # number of epochs\n",
        "dim_input = 8  # input dimension = `label_tensor.size(1)`\n",
        "dim_output = 10000  # output dimension = `feature_tensor.size(1)`\n",
        "\n",
        "# model instantiation\n",
        "LR_model = LRNet(dim_input, dim_output)\n",
        "optimizer = optim.SGD(LR_model.parameters(), lr=lr)\n",
        "criterion = nn.MSELoss()\n",
        "\n",
        "losses = np.zeros(n_epochs)  # loss records\n",
        "for i in range(n_epochs):  # training loop\n",
        "  optimizer.zero_grad()\n",
        "  predictions = LR_model(label_tensor)\n",
        "  loss = criterion(predictions, feature_tensor)\n",
        "  loss.backward()\n",
        "  optimizer.step()\n",
        "  losses[i] = loss.item()\n",
        "\n",
        "# trained weights from zero_depth_model\n",
        "LR_model_weights = next(iter(LR_model.parameters())).detach().numpy()\n",
        "\n",
        "plot_loss(losses, \"Training loss for zero depth LNN\", c=\"r\")"
      ],
      "execution_count": null,
      "outputs": []
    },
    {
      "cell_type": "code",
      "metadata": {
        "execution": {},
        "id": "gyxtTQVjzN2-"
      },
      "source": [
        "print(\"The final weights from all methods are approximately equal?! \"\n",
        "\"{}!\".format(\n",
        "  (np.allclose(analytical_weights, LR_model_weights, atol=1e-02) and \\\n",
        "   np.allclose(analytical_weights, deep_W_tot, atol=1e-02))\n",
        "  )\n",
        ")"
      ],
      "execution_count": null,
      "outputs": []
    },
    {
      "cell_type": "markdown",
      "metadata": {
        "execution": {},
        "id": "BHK4BZtZzN2_"
      },
      "source": [
        "As you may have guessed, they all arrive at the same results but through very different paths."
      ]
    },
    {
      "cell_type": "code",
      "metadata": {
        "cellView": "form",
        "execution": {},
        "id": "tqR-F4Q5zN2_"
      },
      "source": [
        "# @title Video 10: Linear Regression - Discussion\n",
        "from ipywidgets import widgets\n",
        "\n",
        "out2 = widgets.Output()\n",
        "with out2:\n",
        "  from IPython.display import IFrame\n",
        "  class BiliVideo(IFrame):\n",
        "    def __init__(self, id, page=1, width=400, height=300, **kwargs):\n",
        "      self.id=id\n",
        "      src = \"https://player.bilibili.com/player.html?bvid={0}&page={1}\".format(id, page)\n",
        "      super(BiliVideo, self).__init__(src, width, height, **kwargs)\n",
        "\n",
        "  video = BiliVideo(id=f\"BV18v411E7Wg\", width=854, height=480, fs=1)\n",
        "  print(\"Video available at https://www.bilibili.com/video/{0}\".format(video.id))\n",
        "  display(video)\n",
        "\n",
        "out1 = widgets.Output()\n",
        "with out1:\n",
        "  from IPython.display import YouTubeVideo\n",
        "  video = YouTubeVideo(id=f\"gG15_J0i05Y\", width=854, height=480, fs=1, rel=0)\n",
        "  print(\"Video available at https://youtube.com/watch?v=\" + video.id)\n",
        "  display(video)\n",
        "\n",
        "out = widgets.Tab([out1, out2])\n",
        "out.set_title(0, 'Youtube')\n",
        "out.set_title(1, 'Bilibili')\n",
        "\n",
        "display(out)"
      ],
      "execution_count": null,
      "outputs": []
    }
  ]
}